{
 "cells": [
  {
   "cell_type": "markdown",
   "metadata": {},
   "source": [
    "<h1 style=\"text-align:center\">Travail pratique numérique en thermodynamique statistique</h1>\n",
    "<h2 style=\"text-align:center\">PARTIE 1 : Cinétique des gaz parfaits</h2>\n",
    "\n",
    "Veuillez indiquer le nom des membres de votre équipe dans la cellule suivante."
   ]
  },
  {
   "cell_type": "markdown",
   "metadata": {},
   "source": [
    "- Michael Hudon\n",
    "- Émile Poirier\n",
    "- Justin Binette\n",
    "- Sébastien Rouleau"
   ]
  },
  {
   "cell_type": "markdown",
   "metadata": {
    "nteract": {
     "transient": {
      "deleting": false
     }
    }
   },
   "source": [
    "# Introduction #\n",
    "Ce travail révise d'abord quelques bases générales de mécanique statistique classique avec le script `tds2Danimation_hXX.py` qui simule la théorie cinétique des gaz parfaits en 2D. Cette simulation utilise le concept de sphères dures, mais ici pour le cas des particules d'un gaz afin d'introduire des collisions élastiques entre elles sur leur trajectoire ballistique. Notez qu'une sphère est colorée et grossie seulement pour l’effet visuel dans l'animation, la physique de l’algorithme codé considère bien des particules totalement identiques. Les questions sur cette simulation, à répondre directement dans les cellules du carnet _(Notebook)_ ici-même, explorent quelques paramètres de la thermodynamique statistique et introduisent de nouveaux termes utiles à l'étude du mouvement des électrons dans la matière.\n",
    "\n",
    "_N.B._ \n",
    "- _Pour montrer les animations à l'écran, le script `tds2Danimation_hXX.py` importe la librairie `VPython` qu'il faut donc installer. Des liens vers sa documentation et de l'information complémentaire sont donnés dans la médiagraphie à la fin._\n",
    "- _Le code dans ce script est abusivement commenté dans notre contexte pédagogique, mais il serait bien sûr préférable de s’en tenir aux recommandations du <a href=\"https://www.python.org/dev/peps/pep-0008\"> PEP 8 — Style Guide for Python Code</a>._\n",
    "- _Notez finalement que la boucle principale à la fin du script laisse l'utilisateur voir l'animation aussi longtemps que souhaité, assurez-vous donc de savoir comment l'interrompre correctement avant de lancer la simulation ou de la remplacer par une boucle `for`._"
   ]
  },
  {
   "cell_type": "markdown",
   "metadata": {
    "nteract": {
     "transient": {
      "deleting": false
     }
    }
   },
   "source": [
    "# 1<sup>re</sup> partie - Cinétique CLASSIQUE des gaz parfaits #"
   ]
  },
  {
   "cell_type": "markdown",
   "metadata": {
    "nteract": {
     "transient": {
      "deleting": false
     }
    }
   },
   "source": [
    "### Simulation 2D ###"
   ]
  },
  {
   "metadata": {
    "ExecuteTime": {
     "end_time": "2025-02-24T17:06:45.504641Z",
     "start_time": "2025-02-24T17:06:45.501526Z"
    }
   },
   "cell_type": "code",
   "source": [
    "import os\n",
    "import sys\n",
    "\n",
    "\n",
    "os.chdir('C:/Users/EmilePc/Documents/GitHub/TP_Num_Thermo_Stat')    #   Mettre le path de ou ce trouve les fichiers Jupyter."
   ],
   "outputs": [],
   "execution_count": 2
  },
  {
   "cell_type": "code",
   "metadata": {
    "ExecuteTime": {
     "end_time": "2025-02-24T02:31:28.208318Z",
     "start_time": "2025-02-24T02:31:18.381636Z"
    }
   },
   "source": [
    "!python tds2Danimation_h25.py\n",
    "# Remplacez \"XX\" par les deux derniers chiffres de l'année de votre session.\n",
    "# N'hésitez pas à exécuter l'animation 2D ou la simulation 3D à l'extérieur du _Notebook_. Cette cellule vise à préciser que les questions qui suivent se basent sur ces scripts et doivent mener aux mêmes réponses autant en 2D qu'en 3D."
   ],
   "outputs": [
    {
     "name": "stdout",
     "output_type": "stream",
     "text": [
      "Données sauvegardées dans le fichier C:\\Users\\EmilePc\\Documents\\GitHub\\TP_Num_Thermo_Stat\\p_data.json\n"
     ]
    }
   ],
   "execution_count": 26
  },
  {
   "cell_type": "markdown",
   "metadata": {},
   "source": [
    "### Questions statistiques ###"
   ]
  },
  {
   "cell_type": "markdown",
   "metadata": {},
   "source": [
    "**I.** _(3 points)_  &mdash; Utilisez la liste finale des vecteurs de quantité de mouvement $\\vec{p}$ de toutes les sphères pour calculer la moyenne de son carré $\\langle p^2\\rangle=\\langle\\vec{p}\\cdot\\vec{p}\\rangle$ en écrivant le code nécessaire dans la cellule qui suit. "
   ]
  },
  {
   "metadata": {
    "ExecuteTime": {
     "end_time": "2025-02-24T17:06:47.431671Z",
     "start_time": "2025-02-24T17:06:47.370709Z"
    }
   },
   "cell_type": "code",
   "source": [
    "import json\n",
    "import numpy as np\n",
    "\n",
    "# Charger les données du fichier JSON (généralisation pour 2D)\n",
    "def get_quantite_mouvement(filename=\"p_data.json\"):\n",
    "    with open(filename, 'r') as f:\n",
    "        data = json.load(f)\n",
    "    # Retourne toutes les dimensions disponibles (x, y)\n",
    "    return [[item.get('x', 0), item.get('y', 0)] for item in data]\n",
    "\n",
    "p = get_quantite_mouvement()\n",
    "\n",
    "p_x = [item[0] for item in p]  # Liste des composantes x\n",
    "p_y = [item[1] for item in p]  # Liste des composantes y\n",
    "\n",
    "p_carre = [x ** 2 + y ** 2 for x, y in zip(p_x, p_y)]\n",
    "\n",
    "# Calculer la moyenne de p^2\n",
    "p2_moyenne = np.mean(p_carre)\n",
    "\n",
    "# Afficher le résultat\n",
    "print(f\"La moyenne de p^2 est : {p2_moyenne}\")"
   ],
   "outputs": [
    {
     "name": "stdout",
     "output_type": "stream",
     "text": [
      "La moyenne de p^2 est : 5.6e-47\n"
     ]
    }
   ],
   "execution_count": 3
  },
  {
   "metadata": {},
   "cell_type": "markdown",
   "source": [
    "\n",
    "**II.** _(2 points)_  &mdash; La température $T$ (macroscopique) est proportionnelle à l'énergie cinétique moyenne $E_{cin}$ de l'ensemble des particules lorsque ce système est rendu à l'équilibre. Celle-ci peut se calculer classiquement selon son <a href=\"https://fr.wikipedia.org/wiki/%C3%89quipartition_de_l%27%C3%A9nergie\">principe d'équipartition</a>, _i.e._ en répartissant l'énergie également sur chaque degré de liberté ici en translation seulement d'où, au total pour $\\text{DIM}=1,2\\text{ ou } 3$ dimensions d'espace réel,\n",
    "\\begin{equation}\n",
    "E_{cin}=\\frac{\\langle p^2 \\rangle}{2m}=\\text{DIM}\\times\\frac{1}{2}k_BT\n",
    "\\end{equation}\n",
    "avec $k_B$, la constante de Boltzmann et $m$, la masse de chaque particule. Quelle est la température du gaz de sphères dures à la fin de la simulation? Est-ce qu'elle a changé significativement par rapport à sa valeur initiale?"
   ]
  },
  {
   "metadata": {
    "ExecuteTime": {
     "end_time": "2025-02-24T17:06:49.726161Z",
     "start_time": "2025-02-24T17:06:49.722666Z"
    }
   },
   "cell_type": "code",
   "source": [
    "DIM = 2 #Nombre de degrés de liberté de la simulation\n",
    "mass = 4E-3/6E23 # helium mass\n",
    "k = 1.4E-23 # Boltzmann constant\n",
    "T = 300 #Température début\n",
    "\n",
    "def Ecin(p2, m):\n",
    "    return p2_moyenne / (2 * m)\n",
    "\n",
    "def Temp(Ecin_moyenne):\n",
    "    return (2*Ecin_moyenne)/(DIM*k)\n",
    "\n",
    "T_final = Temp(Ecin(p2_moyenne, mass))\n",
    "\n",
    "print(f\"La température du gaz de sphères dures au début et à la fin de la simulation sont: {T}K et {T_final}K\")"
   ],
   "outputs": [
    {
     "name": "stdout",
     "output_type": "stream",
     "text": [
      "La température du gaz de sphères dures au début et à la fin de la simulation sont: 300K et 300.00000000000006K\n"
     ]
    }
   ],
   "execution_count": 4
  },
  {
   "cell_type": "markdown",
   "metadata": {
    "nteract": {
     "transient": {
      "deleting": false
     }
    }
   },
   "source": [
    "**III.** _(10 points)_ &mdash; Modifiez le code de la simulation pour ajouter une fonction qui suit la trajectoire d'UNE SEULE particule, c'est-à-dire qu'elle doit enregistrer, dans une liste, des valeurs de variables pour cette particule et ce, à chacune de ses collisions avec une autre particule (_i.e._ excluez les collisions avec les parois de la boîte). Les deux variables scalaires à lister sont:\n",
    "- la distance que la particule a parcouru entre chaque collision,\n",
    "- le temps écoulé entre ces collisions.\n",
    "\n",
    "Copiez le code de votre fonction dans la cellule qui suit en y commentant clairement les variables pour ces listes qui devront persister après avoir interrompu l'exécution de la simulation. N'oubliez pas d'inclure votre fichier Python (`.py`) modifié avec la simulation complète lors de la remise."
   ]
  },
  {
   "cell_type": "code",
   "metadata": {
    "nteract": {
     "transient": {
      "deleting": false
     }
    },
    "ExecuteTime": {
     "end_time": "2025-02-24T16:19:52.288580Z",
     "start_time": "2025-02-24T16:18:28.182301Z"
    }
   },
   "source": [
    "# Choix de la particule suivit entre chaque collision.\n",
    "# Ligne du code =\n",
    "\n",
    "id_particule = 1\n",
    "\n",
    "#-------------------------------------------------------------------------------------------------------------------------------------------------\n",
    "\n",
    "# Met en rouge la particule suivit.\n",
    "# Ligne du code =\n",
    "\n",
    "if i == id_particule:\n",
    "    Atoms.append(simple_sphere(pos=vector(x,y,z), radius=Ratom, color=color.red))\n",
    "\n",
    "#-------------------------------------------------------------------------------------------------------------------------------------------------\n",
    "\n",
    "# Initialisation des listes finale de distance et de temps.\n",
    "# Ligne du code =\n",
    "\n",
    "distance_collision = []\n",
    "temps_collision = []\n",
    "\n",
    "#-------------------------------------------------------------------------------------------------------------------------------------------------\n",
    "\n",
    "# Définition de la fonction permettant de détecter la distance parcourue et le temps entre chaque collision.\n",
    "# Ligne du code =\n",
    "\n",
    "def suivre_particule(id, hitlist, vitesse, step, dt):\n",
    "\n",
    "    # Initialisation\n",
    "    position_particule = []\n",
    "    distance_collision_particule = []\n",
    "    temps_collision_particule = []\n",
    "    current_time = step * dt  # Calcule le temps accumulé jusqu'à l'étape\n",
    "\n",
    "    # Ajoute la position actuelle de la particule suivie\n",
    "    position_particule.append(apos[id])  # Enregistre la position actuelle de la particule suivie\n",
    "\n",
    "    # Vérifie si la particule suivie est impliquée dans une collision\n",
    "    if hitlist:  # S'il y a des collisions détectées\n",
    "        for paire in hitlist:  # Parcourt les collisions\n",
    "            i, j = paire  # Indices des particules en collision\n",
    "\n",
    "            if i == id or j == id:  # Si la particule suivie est impliquée dans une collision\n",
    "                distance_parcourue = vitesse[id].mag * current_time  # Calcule la distance parcourue\n",
    "                distance_collision_particule.append(distance_parcourue)  # Stocke la distance parcourue\n",
    "                temps_collision_particule.append(current_time)  # Stocke le temps écoulé\n",
    "\n",
    "                current_time = 0  # Réinitialise le temps pour cet intervalle\n",
    "\n",
    "    return distance_collision_particule, temps_collision_particule\n",
    "\n",
    "#-------------------------------------------------------------------------------------------------------------------------------------------------\n",
    "\n",
    "# Appel de la fonction dans la boucle For de la simulation.\n",
    "# Ligne du Code =\n",
    "\n",
    "distance_collision_particule, temps_collision_particule = suivre_particule(id_particule, hitlist, vitesse, step, dt)\n",
    "distance_collision.extend(distance_collision_particule)     # VARIABLE QUI RESTE CONTENANT LA LISTE DES DISTANCES ENTRE LES COLLISIONS.\n",
    "temps_collision.extend(temps_collision_particule)       # VARIABLE QUI RESTE CONTENANT LA LISTE DES TEMPS ENTRE LES COLLISIONS."
   ],
   "outputs": [
    {
     "data": {
      "text/plain": [
       "<IPython.core.display.HTML object>"
      ],
      "text/html": [
       "<div id=\"glowscript\" class=\"glowscript\"></div>"
      ]
     },
     "metadata": {},
     "output_type": "display_data"
    },
    {
     "data": {
      "text/plain": [
       "<IPython.core.display.Javascript object>"
      ],
      "application/javascript": "if (typeof Jupyter !== \"undefined\") { window.__context = { glowscript_container: $(\"#glowscript\").removeAttr(\"id\")};}else{ element.textContent = ' ';}"
     },
     "metadata": {},
     "output_type": "display_data"
    },
    {
     "data": {
      "text/plain": [
       "<IPython.core.display.HTML object>"
      ],
      "text/html": [
       "<div id=\"glowscript\" class=\"glowscript\"></div>"
      ]
     },
     "metadata": {},
     "output_type": "display_data"
    },
    {
     "data": {
      "text/plain": [
       "<IPython.core.display.Javascript object>"
      ],
      "application/javascript": "if (typeof Jupyter !== \"undefined\") { window.__context = { glowscript_container: $(\"#glowscript\").removeAttr(\"id\")};}else{ element.textContent = ' ';}"
     },
     "metadata": {},
     "output_type": "display_data"
    },
    {
     "ename": "KeyboardInterrupt",
     "evalue": "",
     "output_type": "error",
     "traceback": [
      "\u001B[1;31m---------------------------------------------------------------------------\u001B[0m",
      "\u001B[1;31mKeyboardInterrupt\u001B[0m                         Traceback (most recent call last)",
      "Cell \u001B[1;32mIn[4], line 1\u001B[0m\n\u001B[1;32m----> 1\u001B[0m \u001B[38;5;28;01mfrom\u001B[39;00m\u001B[38;5;250m \u001B[39m\u001B[38;5;21;01mtds2Danimation_h25\u001B[39;00m\u001B[38;5;250m \u001B[39m\u001B[38;5;28;01mimport\u001B[39;00m distance_collision_particule, temps_collision_particule\n\u001B[0;32m      3\u001B[0m \u001B[38;5;28mprint\u001B[39m(distance_collision_particule)\n\u001B[0;32m      4\u001B[0m \u001B[38;5;28mprint\u001B[39m(temps_collision_particule)\n",
      "File \u001B[1;32m~\\Documents\\GitHub\\TP_Num_Thermo_Stat\\tds2Danimation_h25.py:81\u001B[0m\n\u001B[0;32m     79\u001B[0m d \u001B[38;5;241m=\u001B[39m L\u001B[38;5;241m/\u001B[39m\u001B[38;5;241m2\u001B[39m\u001B[38;5;241m+\u001B[39mRatom\n\u001B[0;32m     80\u001B[0m r \u001B[38;5;241m=\u001B[39m \u001B[38;5;241m0.005\u001B[39m\n\u001B[1;32m---> 81\u001B[0m cadre \u001B[38;5;241m=\u001B[39m \u001B[43mcurve\u001B[49m\u001B[43m(\u001B[49m\u001B[43mcolor\u001B[49m\u001B[38;5;241;43m=\u001B[39;49m\u001B[43mgray\u001B[49m\u001B[43m,\u001B[49m\u001B[43m \u001B[49m\u001B[43mradius\u001B[49m\u001B[38;5;241;43m=\u001B[39;49m\u001B[43mr\u001B[49m\u001B[43m)\u001B[49m\n\u001B[0;32m     82\u001B[0m cadre\u001B[38;5;241m.\u001B[39mappend([vector(\u001B[38;5;241m-\u001B[39md,\u001B[38;5;241m-\u001B[39md,\u001B[38;5;241m0\u001B[39m), vector(d,\u001B[38;5;241m-\u001B[39md,\u001B[38;5;241m0\u001B[39m), vector(d,d,\u001B[38;5;241m0\u001B[39m), vector(\u001B[38;5;241m-\u001B[39md,d,\u001B[38;5;241m0\u001B[39m), vector(\u001B[38;5;241m-\u001B[39md,\u001B[38;5;241m-\u001B[39md,\u001B[38;5;241m0\u001B[39m)])\n\u001B[0;32m     84\u001B[0m \u001B[38;5;66;03m#### POSITION ET QUANTITÉ DE MOUVEMENT INITIALE DES SPHÈRES ####\u001B[39;00m\n",
      "File \u001B[1;32m~\\miniconda3\\envs\\TP_PhysNum\\Lib\\site-packages\\vpython\\vpython.py:2069\u001B[0m, in \u001B[0;36mcurve.__init__\u001B[1;34m(self, *args1, **args)\u001B[0m\n\u001B[0;32m   2066\u001B[0m     tpos \u001B[38;5;241m=\u001B[39m args[\u001B[38;5;124m'\u001B[39m\u001B[38;5;124mpos\u001B[39m\u001B[38;5;124m'\u001B[39m]\n\u001B[0;32m   2067\u001B[0m     \u001B[38;5;28;01mdel\u001B[39;00m args[\u001B[38;5;124m'\u001B[39m\u001B[38;5;124mpos\u001B[39m\u001B[38;5;124m'\u001B[39m]\n\u001B[1;32m-> 2069\u001B[0m \u001B[38;5;28;43msuper\u001B[39;49m\u001B[43m(\u001B[49m\u001B[43mcurveMethods\u001B[49m\u001B[43m,\u001B[49m\u001B[43m \u001B[49m\u001B[38;5;28;43mself\u001B[39;49m\u001B[43m)\u001B[49m\u001B[38;5;241;43m.\u001B[39;49m\u001B[43msetup\u001B[49m\u001B[43m(\u001B[49m\u001B[43margs\u001B[49m\u001B[43m)\u001B[49m\n\u001B[0;32m   2071\u001B[0m \u001B[38;5;28;01mif\u001B[39;00m tpos \u001B[38;5;129;01mis\u001B[39;00m \u001B[38;5;129;01mnot\u001B[39;00m \u001B[38;5;28;01mNone\u001B[39;00m:\n\u001B[0;32m   2072\u001B[0m     \u001B[38;5;28;01mif\u001B[39;00m \u001B[38;5;28mlen\u001B[39m(args1) \u001B[38;5;241m>\u001B[39m \u001B[38;5;241m0\u001B[39m: \u001B[38;5;28;01mraise\u001B[39;00m \u001B[38;5;167;01mAttributeError\u001B[39;00m(\u001B[38;5;124m'\u001B[39m\u001B[38;5;124mMalformed constructor\u001B[39m\u001B[38;5;124m'\u001B[39m)\n",
      "File \u001B[1;32m~\\miniconda3\\envs\\TP_PhysNum\\Lib\\site-packages\\vpython\\vpython.py:612\u001B[0m, in \u001B[0;36mstandardAttributes.setup\u001B[1;34m(self, args)\u001B[0m\n\u001B[0;32m    611\u001B[0m \u001B[38;5;28;01mdef\u001B[39;00m\u001B[38;5;250m \u001B[39m\u001B[38;5;21msetup\u001B[39m(\u001B[38;5;28mself\u001B[39m, args):\n\u001B[1;32m--> 612\u001B[0m     \u001B[38;5;28;43msuper\u001B[39;49m\u001B[43m(\u001B[49m\u001B[43mstandardAttributes\u001B[49m\u001B[43m,\u001B[49m\u001B[43m \u001B[49m\u001B[38;5;28;43mself\u001B[39;49m\u001B[43m)\u001B[49m\u001B[38;5;241;43m.\u001B[39;49m\u001B[38;5;21;43m__init__\u001B[39;49m\u001B[43m(\u001B[49m\u001B[43m)\u001B[49m\n\u001B[0;32m    613\u001B[0m     \u001B[38;5;28mself\u001B[39m\u001B[38;5;241m.\u001B[39m_constructing \u001B[38;5;241m=\u001B[39m \u001B[38;5;28;01mTrue\u001B[39;00m  \u001B[38;5;66;03m## calls to setters are from constructor\u001B[39;00m\n\u001B[0;32m    615\u001B[0m     objName \u001B[38;5;241m=\u001B[39m \u001B[38;5;28mself\u001B[39m\u001B[38;5;241m.\u001B[39m_objName \u001B[38;5;241m=\u001B[39m args[\u001B[38;5;124m'\u001B[39m\u001B[38;5;124m_objName\u001B[39m\u001B[38;5;124m'\u001B[39m]  \u001B[38;5;66;03m## identifies object type\u001B[39;00m\n",
      "File \u001B[1;32m~\\miniconda3\\envs\\TP_PhysNum\\Lib\\site-packages\\vpython\\vpython.py:265\u001B[0m, in \u001B[0;36mbaseObj.__init__\u001B[1;34m(self, **kwargs)\u001B[0m\n\u001B[0;32m    262\u001B[0m \u001B[38;5;28;01mif\u001B[39;00m \u001B[38;5;129;01mnot\u001B[39;00m (baseObj\u001B[38;5;241m.\u001B[39m_view_constructed \u001B[38;5;129;01mor\u001B[39;00m\n\u001B[0;32m    263\u001B[0m         baseObj\u001B[38;5;241m.\u001B[39m_canvas_constructing):\n\u001B[0;32m    264\u001B[0m     \u001B[38;5;28;01mif\u001B[39;00m _isnotebook:\n\u001B[1;32m--> 265\u001B[0m         \u001B[38;5;28;01mfrom\u001B[39;00m\u001B[38;5;250m \u001B[39m\u001B[38;5;21;01m.\u001B[39;00m\u001B[38;5;21;01mwith_notebook\u001B[39;00m\u001B[38;5;250m \u001B[39m\u001B[38;5;28;01mimport\u001B[39;00m _\n\u001B[0;32m    266\u001B[0m     \u001B[38;5;28;01melse\u001B[39;00m:\n\u001B[0;32m    267\u001B[0m         \u001B[38;5;28;01mfrom\u001B[39;00m\u001B[38;5;250m \u001B[39m\u001B[38;5;21;01m.\u001B[39;00m\u001B[38;5;21;01mno_notebook\u001B[39;00m\u001B[38;5;250m \u001B[39m\u001B[38;5;28;01mimport\u001B[39;00m _\n",
      "File \u001B[1;32m~\\miniconda3\\envs\\TP_PhysNum\\Lib\\site-packages\\vpython\\with_notebook.py:154\u001B[0m\n\u001B[0;32m    152\u001B[0m baseObj\u001B[38;5;241m.\u001B[39mglow \u001B[38;5;241m=\u001B[39m GlowWidget(wsport\u001B[38;5;241m=\u001B[39m__SOCKET_PORT, wsuri\u001B[38;5;241m=\u001B[39m\u001B[38;5;124m'\u001B[39m\u001B[38;5;124m/ws\u001B[39m\u001B[38;5;124m'\u001B[39m)\n\u001B[0;32m    153\u001B[0m \u001B[38;5;28;01mwhile\u001B[39;00m (\u001B[38;5;129;01mnot\u001B[39;00m wsConnected):\n\u001B[1;32m--> 154\u001B[0m     \u001B[43mtime\u001B[49m\u001B[38;5;241;43m.\u001B[39;49m\u001B[43msleep\u001B[49m\u001B[43m(\u001B[49m\u001B[38;5;241;43m0.1\u001B[39;49m\u001B[43m)\u001B[49m          \u001B[38;5;66;03m# wait for websocket to connect\u001B[39;00m\n\u001B[0;32m    156\u001B[0m baseObj\u001B[38;5;241m.\u001B[39mtrigger()  \u001B[38;5;66;03m# start the trigger ping-pong process\u001B[39;00m\n\u001B[0;32m    159\u001B[0m \u001B[38;5;66;03m# Same justification as above for removing the ipykernel check.\u001B[39;00m\n\u001B[0;32m    160\u001B[0m \u001B[38;5;66;03m# There was also an IPython version check for >=4, which was\u001B[39;00m\n\u001B[0;32m    161\u001B[0m \u001B[38;5;66;03m# released in Nov 2015. Ok to stop supporting in 2.019 I think.\u001B[39;00m\n",
      "\u001B[1;31mKeyboardInterrupt\u001B[0m: "
     ]
    }
   ],
   "execution_count": 4
  },
  {
   "cell_type": "markdown",
   "metadata": {
    "nteract": {
     "transient": {
      "deleting": false
     }
    }
   },
   "source": [
    "**IV.** _(2 points)_ &mdash; Calculez le **libre parcours moyen** $l_{moy}$ et le **temps de collision** $\\tau$ qui sont les valeurs moyennes des deux listes compilées au numéro précédent.\n",
    "\n",
    "_(Pour votre information, le libre parcours moyen est de l’ordre de 100 nm dans l'air à température et pression ambiantes, mais_ $l_{moy}$ _peut dépasser 100 000 km dans une enceinte sous vide avec les technologies de pompes modernes!)_\n",
    "\n"
   ]
  },
  {
   "cell_type": "code",
   "metadata": {
    "nteract": {
     "transient": {
      "deleting": false
     }
    },
    "ExecuteTime": {
     "end_time": "2025-02-24T17:09:09.023675Z",
     "start_time": "2025-02-24T17:09:09.019099Z"
    }
   },
   "source": [
    "def get_distance_temps(filename=\"distance_temps_collision_data.json\"):\n",
    "    with open(filename, 'r') as f:\n",
    "        data = json.load(f)\n",
    "    # Retourne toutes les dimensions disponibles (x, y)\n",
    "    return [[item.get('distance', 0), item.get('temps', 0)] for item in data]\n",
    "\n",
    "distance_temps = get_distance_temps()\n",
    "\n",
    "distance = [item[0] for item in distance_temps]  # Liste des composantes x\n",
    "temps = [item[1] for item in distance_temps]  # Liste des composantes y\n",
    "\n",
    "l_moy = np.mean(distance)\n",
    "tau = np.mean(temps)\n",
    "\n",
    "print(f\"Le libre parcours moyen est :{l_moy} mètre et le temps de collision est : {tau} seconde.\")"
   ],
   "outputs": [
    {
     "name": "stdout",
     "output_type": "stream",
     "text": [
      "Le libre parcours moyen est :4.17201702860735 mètre et le temps de collision est : 0.004452838427947598 seconde.\n"
     ]
    }
   ],
   "execution_count": 7
  },
  {
   "cell_type": "markdown",
   "metadata": {
    "nteract": {
     "transient": {
      "deleting": false
     }
    }
   },
   "source": [
    "**V.** _(2 points)_ Calculez la vitesse $\\vec{v}$ de la particule entre chaque paire de collisions. Quelle est la vitesse moyenne $\\langle\\vec{v}\\rangle$ de la particule?"
   ]
  },
  {
   "cell_type": "code",
   "metadata": {
    "nteract": {
     "transient": {
      "deleting": false
     }
    },
    "ExecuteTime": {
     "end_time": "2025-02-24T17:26:57.830519Z",
     "start_time": "2025-02-24T17:26:57.826508Z"
    }
   },
   "source": [
    "distance_1 = []\n",
    "distance_2 = []\n",
    "\n",
    "for i, val in enumerate(distance):\n",
    "    if i % 2 == 0:\n",
    "        distance_1.append(val)\n",
    "    else:\n",
    "        distance_2.append(val)\n",
    "\n",
    "temps_1 = []\n",
    "temps_2 = []\n",
    "\n",
    "for i, val in enumerate(temps):\n",
    "    if i % 2 == 0:\n",
    "        temps_1.append(val)\n",
    "    else:\n",
    "        temps_2.append(val)\n",
    "\n",
    "vitesses = []\n",
    "\n",
    "for d1, d2, t1, t2 in zip(distance_1, distance_2, temps_1, temps_2):\n",
    "    if t1 != t2:  # Avoid division by zero\n",
    "        vitesses.append((d1 - d2) / (t1 - t2))\n",
    "\n",
    "print(f\"La vitesse moyenne de la particule en valeur absolu est : {abs(np.mean(vitesses))} m/s\")\n"
   ],
   "outputs": [
    {
     "name": "stdout",
     "output_type": "stream",
     "text": [
      "La vitesse moyenne de la particule en valeur absolu est : 3835.1746073850254 m/s\n"
     ]
    }
   ],
   "execution_count": 21
  },
  {
   "cell_type": "markdown",
   "metadata": {
    "nteract": {
     "transient": {
      "deleting": false
     }
    }
   },
   "source": [
    "**VI.** _(5 points)_ &mdash; Pour cette même liste de vitesses, comparez les distributions de la norme $||\\vec{v}||$, du carré $v^2$ et d’une de ses composantes $v_x^2$ en étalonnant l’abscisse pour contraster les histogrammes avec une échelle appropriée. Indiquez sur ce graphique la moyenne, le mode, la médiane et la moyenne quadratique des distributions."
   ]
  },
  {
   "cell_type": "code",
   "execution_count": null,
   "metadata": {
    "nteract": {
     "transient": {
      "deleting": false
     }
    }
   },
   "outputs": [],
   "source": [
    "\n",
    "#"
   ]
  },
  {
   "cell_type": "markdown",
   "metadata": {},
   "source": [
    "**Bonus.** _(4 points)_ &mdash; Montrez que \n",
    "- (a) le théorème central limite est satisfait par une des distributions de vitesse du numéro précédent,\n",
    "- (b) le système simulé est ergodique."
   ]
  },
  {
   "cell_type": "code",
   "execution_count": null,
   "metadata": {
    "nteract": {
     "transient": {
      "deleting": false
     }
    }
   },
   "outputs": [],
   "source": [
    "\n",
    "#"
   ]
  },
  {
   "cell_type": "markdown",
   "metadata": {
    "nteract": {
     "transient": {
      "deleting": false
     }
    }
   },
   "source": [
    "# Médiagraphie #\n",
    " - La simulation utilise la librairie <a href=\"https://vpython.org\">VPython</a> conçue pour la visualisation de physique en 3D, avec les instructions d’installation <a href=\"https://vpython.org/presentation2018/install.html\">ici</a> et la documentation <a href=\"https://www.glowscript.org/docs/VPythonDocs/index.html\">ici</a>. Le script fourni qui est exécuté dans ce _Notebook_ adapte en 2D et commente en détail l’exemple <a href=\"https://www.glowscript.org/#/user/GlowScriptDemos/folder/Examples/program/HardSphereGas-VPython\">HardSphereGas-VPython</a> du site interactif <a href=\"https://www.glowscript.org\">GlowScript</a> pour programmer des animations avec VPython directement en ligne.\n",
    " \n",
    "_**N.B. de débogage VPython:** Ayant plus codé en MATLAB qu'en Python jusqu'à maintenant, j'utilise Spyder qui offre une interface similaire, mais j'ai trouvé ce vidéo qui parle d'une <a href=\"https://www.youtube.com/watch?v=MJiVtz4Uj7M\">installation VS code</a> qui peut-être aider? N'hésitez pas à partager de meilleures alternatives que j'ajouterai ici. Vous pouvez aussi tenter l'installation <a href=\"https://jakevdp.github.io/blog/2017/12/05/installing-python-packages-from-jupyter/\">directement dans le Notebook</a>, mais au final chaque installation de distribution Python a son lot de <a href=\"https://xkcd.com/2347/\">défis avec les dépendances</a>. Si rien ne fonctionne, n'hésitez pas à contacter la sympathique communauté qui développe et utilise cette librairie VPython d'abord via leur <a href=\"https://groups.google.com/g/vpython-users\">groupe-forum</a>, puis leur <a href=\"https://github.com/vpython/vpython-jupyter\">site GitHub</a> de dépôt de développement. J'ai toujours eu de bonnes expériences d'interaction avec eux!_ \n",
    " "
   ]
  }
 ],
 "metadata": {
  "kernelspec": {
   "display_name": "Python 3",
   "language": "python",
   "name": "python3"
  },
  "language_info": {
   "codemirror_mode": {
    "name": "ipython",
    "version": 3
   },
   "file_extension": ".py",
   "mimetype": "text/x-python",
   "name": "python",
   "nbconvert_exporter": "python",
   "pygments_lexer": "ipython3",
   "version": "3.8.20"
  }
 },
 "nbformat": 4,
 "nbformat_minor": 4
}
