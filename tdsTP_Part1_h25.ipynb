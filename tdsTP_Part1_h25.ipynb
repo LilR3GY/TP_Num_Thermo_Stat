{
 "cells": [
  {
   "cell_type": "markdown",
   "metadata": {},
   "source": [
    "<h1 style=\"text-align:center\">Travail pratique numérique en thermodynamique statistique</h1>\n",
    "<h2 style=\"text-align:center\">PARTIE 1 : Cinétique des gaz parfaits</h2>\n",
    "\n",
    "Veuillez indiquer le nom des membres de votre équipe dans la cellule suivante."
   ]
  },
  {
   "cell_type": "markdown",
   "metadata": {},
   "source": [
    "- Michael Hudon\n",
    "- Émile Poirier\n",
    "- Justin Binette\n",
    "- Sébastien Rouleau"
   ]
  },
  {
   "cell_type": "markdown",
   "metadata": {
    "nteract": {
     "transient": {
      "deleting": false
     }
    }
   },
   "source": [
    "# Introduction #\n",
    "Ce travail révise d'abord quelques bases générales de mécanique statistique classique avec le script `tds2Danimation_hXX.py` qui simule la théorie cinétique des gaz parfaits en 2D. Cette simulation utilise le concept de sphères dures, mais ici pour le cas des particules d'un gaz afin d'introduire des collisions élastiques entre elles sur leur trajectoire ballistique. Notez qu'une sphère est colorée et grossie seulement pour l’effet visuel dans l'animation, la physique de l’algorithme codé considère bien des particules totalement identiques. Les questions sur cette simulation, à répondre directement dans les cellules du carnet _(Notebook)_ ici-même, explorent quelques paramètres de la thermodynamique statistique et introduisent de nouveaux termes utiles à l'étude du mouvement des électrons dans la matière.\n",
    "\n",
    "_N.B._ \n",
    "- _Pour montrer les animations à l'écran, le script `tds2Danimation_hXX.py` importe la librairie `VPython` qu'il faut donc installer. Des liens vers sa documentation et de l'information complémentaire sont donnés dans la médiagraphie à la fin._\n",
    "- _Le code dans ce script est abusivement commenté dans notre contexte pédagogique, mais il serait bien sûr préférable de s’en tenir aux recommandations du <a href=\"https://www.python.org/dev/peps/pep-0008\"> PEP 8 — Style Guide for Python Code</a>._\n",
    "- _Notez finalement que la boucle principale à la fin du script laisse l'utilisateur voir l'animation aussi longtemps que souhaité, assurez-vous donc de savoir comment l'interrompre correctement avant de lancer la simulation ou de la remplacer par une boucle `for`._"
   ]
  },
  {
   "cell_type": "markdown",
   "metadata": {
    "nteract": {
     "transient": {
      "deleting": false
     }
    }
   },
   "source": [
    "# 1<sup>re</sup> partie - Cinétique CLASSIQUE des gaz parfaits #"
   ]
  },
  {
   "cell_type": "markdown",
   "metadata": {
    "nteract": {
     "transient": {
      "deleting": false
     }
    }
   },
   "source": [
    "### Simulation 2D ###"
   ]
  },
  {
   "cell_type": "code",
   "metadata": {
    "ExecuteTime": {
     "end_time": "2025-02-19T00:54:59.155532Z",
     "start_time": "2025-02-19T00:54:54.598554Z"
    }
   },
   "source": [
    "%run tds2Danimation_h25.py\n",
    "# Remplacez \"XX\" par les deux derniers chiffres de l'année de votre session.\n",
    "# N'hésitez pas à exécuter l'animation 2D ou la simulation 3D à l'extérieur du _Notebook_. Cette cellule vise à préciser que les questions qui suivent se basent sur ces scripts et doivent mener aux mêmes réponses autant en 2D qu'en 3D."
   ],
   "outputs": [
    {
     "data": {
      "text/plain": [
       "<IPython.core.display.HTML object>"
      ],
      "text/html": [
       "<div id=\"glowscript\" class=\"glowscript\"></div>"
      ]
     },
     "metadata": {},
     "output_type": "display_data"
    },
    {
     "data": {
      "text/plain": [
       "<IPython.core.display.Javascript object>"
      ],
      "application/javascript": "if (typeof Jupyter !== \"undefined\") { window.__context = { glowscript_container: $(\"#glowscript\").removeAttr(\"id\")};}else{ element.textContent = ' ';}"
     },
     "metadata": {},
     "output_type": "display_data"
    },
    {
     "data": {
      "text/plain": [
       "<IPython.core.display.HTML object>"
      ],
      "text/html": [
       "<div id=\"glowscript\" class=\"glowscript\"></div>"
      ]
     },
     "metadata": {},
     "output_type": "display_data"
    },
    {
     "data": {
      "text/plain": [
       "<IPython.core.display.Javascript object>"
      ],
      "application/javascript": "if (typeof Jupyter !== \"undefined\") { window.__context = { glowscript_container: $(\"#glowscript\").removeAttr(\"id\")};}else{ element.textContent = ' ';}"
     },
     "metadata": {},
     "output_type": "display_data"
    },
    {
     "ename": "KeyboardInterrupt",
     "evalue": "",
     "output_type": "error",
     "traceback": [
      "\u001B[0;31m---------------------------------------------------------------------------\u001B[0m",
      "\u001B[0;31mKeyboardInterrupt\u001B[0m                         Traceback (most recent call last)",
      "Cell \u001B[0;32mIn[25], line 1\u001B[0m\n\u001B[0;32m----> 1\u001B[0m \u001B[38;5;28;01mimport\u001B[39;00m\u001B[38;5;250m \u001B[39m\u001B[38;5;21;01mtds2Danimation_h25\u001B[39;00m\u001B[38;5;250m \u001B[39m\u001B[38;5;28;01mas\u001B[39;00m\u001B[38;5;250m \u001B[39m\u001B[38;5;21;01mtds\u001B[39;00m\n\u001B[1;32m      2\u001B[0m get_ipython()\u001B[38;5;241m.\u001B[39mrun_line_magic(\u001B[38;5;124m'\u001B[39m\u001B[38;5;124mrun\u001B[39m\u001B[38;5;124m'\u001B[39m, \u001B[38;5;124m'\u001B[39m\u001B[38;5;124mtds.py\u001B[39m\u001B[38;5;124m'\u001B[39m)\n\u001B[1;32m      3\u001B[0m \u001B[38;5;66;03m# Remplacez \"XX\" par les deux derniers chiffres de l'année de votre session.\u001B[39;00m\n\u001B[1;32m      4\u001B[0m \u001B[38;5;66;03m# N'hésitez pas à exécuter l'animation 2D ou la simulation 3D à l'extérieur du _Notebook_. Cette cellule vise à préciser que les questions qui suivent se basent sur ces scripts et doivent mener aux mêmes réponses autant en 2D qu'en 3D.\u001B[39;00m\n",
      "File \u001B[0;32m~/Documents/GitHub/TP_Num_Thermo_Stat/tds2Danimation_h25.py:46\u001B[0m\n\u001B[1;32m     44\u001B[0m d \u001B[38;5;241m=\u001B[39m L\u001B[38;5;241m/\u001B[39m\u001B[38;5;241m2\u001B[39m\u001B[38;5;241m+\u001B[39mRatom\n\u001B[1;32m     45\u001B[0m r \u001B[38;5;241m=\u001B[39m \u001B[38;5;241m0.005\u001B[39m\n\u001B[0;32m---> 46\u001B[0m cadre \u001B[38;5;241m=\u001B[39m \u001B[43mcurve\u001B[49m\u001B[43m(\u001B[49m\u001B[43mcolor\u001B[49m\u001B[38;5;241;43m=\u001B[39;49m\u001B[43mgray\u001B[49m\u001B[43m,\u001B[49m\u001B[43m \u001B[49m\u001B[43mradius\u001B[49m\u001B[38;5;241;43m=\u001B[39;49m\u001B[43mr\u001B[49m\u001B[43m)\u001B[49m\n\u001B[1;32m     47\u001B[0m cadre\u001B[38;5;241m.\u001B[39mappend([vector(\u001B[38;5;241m-\u001B[39md,\u001B[38;5;241m-\u001B[39md,\u001B[38;5;241m0\u001B[39m), vector(d,\u001B[38;5;241m-\u001B[39md,\u001B[38;5;241m0\u001B[39m), vector(d,d,\u001B[38;5;241m0\u001B[39m), vector(\u001B[38;5;241m-\u001B[39md,d,\u001B[38;5;241m0\u001B[39m), vector(\u001B[38;5;241m-\u001B[39md,\u001B[38;5;241m-\u001B[39md,\u001B[38;5;241m0\u001B[39m)])\n\u001B[1;32m     49\u001B[0m \u001B[38;5;66;03m#### POSITION ET QUANTITÉ DE MOUVEMENT INITIALE DES SPHÈRES ####\u001B[39;00m\n",
      "File \u001B[0;32m~/Documents/PyEnvPhysique/lib/python3.12/site-packages/vpython/vpython.py:2069\u001B[0m, in \u001B[0;36mcurve.__init__\u001B[0;34m(self, *args1, **args)\u001B[0m\n\u001B[1;32m   2066\u001B[0m     tpos \u001B[38;5;241m=\u001B[39m args[\u001B[38;5;124m'\u001B[39m\u001B[38;5;124mpos\u001B[39m\u001B[38;5;124m'\u001B[39m]\n\u001B[1;32m   2067\u001B[0m     \u001B[38;5;28;01mdel\u001B[39;00m args[\u001B[38;5;124m'\u001B[39m\u001B[38;5;124mpos\u001B[39m\u001B[38;5;124m'\u001B[39m]\n\u001B[0;32m-> 2069\u001B[0m \u001B[38;5;28;43msuper\u001B[39;49m\u001B[43m(\u001B[49m\u001B[43mcurveMethods\u001B[49m\u001B[43m,\u001B[49m\u001B[43m \u001B[49m\u001B[38;5;28;43mself\u001B[39;49m\u001B[43m)\u001B[49m\u001B[38;5;241;43m.\u001B[39;49m\u001B[43msetup\u001B[49m\u001B[43m(\u001B[49m\u001B[43margs\u001B[49m\u001B[43m)\u001B[49m\n\u001B[1;32m   2071\u001B[0m \u001B[38;5;28;01mif\u001B[39;00m tpos \u001B[38;5;129;01mis\u001B[39;00m \u001B[38;5;129;01mnot\u001B[39;00m \u001B[38;5;28;01mNone\u001B[39;00m:\n\u001B[1;32m   2072\u001B[0m     \u001B[38;5;28;01mif\u001B[39;00m \u001B[38;5;28mlen\u001B[39m(args1) \u001B[38;5;241m>\u001B[39m \u001B[38;5;241m0\u001B[39m: \u001B[38;5;28;01mraise\u001B[39;00m \u001B[38;5;167;01mAttributeError\u001B[39;00m(\u001B[38;5;124m'\u001B[39m\u001B[38;5;124mMalformed constructor\u001B[39m\u001B[38;5;124m'\u001B[39m)\n",
      "File \u001B[0;32m~/Documents/PyEnvPhysique/lib/python3.12/site-packages/vpython/vpython.py:612\u001B[0m, in \u001B[0;36mstandardAttributes.setup\u001B[0;34m(self, args)\u001B[0m\n\u001B[1;32m    611\u001B[0m \u001B[38;5;28;01mdef\u001B[39;00m\u001B[38;5;250m \u001B[39m\u001B[38;5;21msetup\u001B[39m(\u001B[38;5;28mself\u001B[39m, args):\n\u001B[0;32m--> 612\u001B[0m     \u001B[38;5;28;43msuper\u001B[39;49m\u001B[43m(\u001B[49m\u001B[43mstandardAttributes\u001B[49m\u001B[43m,\u001B[49m\u001B[43m \u001B[49m\u001B[38;5;28;43mself\u001B[39;49m\u001B[43m)\u001B[49m\u001B[38;5;241;43m.\u001B[39;49m\u001B[38;5;21;43m__init__\u001B[39;49m\u001B[43m(\u001B[49m\u001B[43m)\u001B[49m\n\u001B[1;32m    613\u001B[0m     \u001B[38;5;28mself\u001B[39m\u001B[38;5;241m.\u001B[39m_constructing \u001B[38;5;241m=\u001B[39m \u001B[38;5;28;01mTrue\u001B[39;00m  \u001B[38;5;66;03m## calls to setters are from constructor\u001B[39;00m\n\u001B[1;32m    615\u001B[0m     objName \u001B[38;5;241m=\u001B[39m \u001B[38;5;28mself\u001B[39m\u001B[38;5;241m.\u001B[39m_objName \u001B[38;5;241m=\u001B[39m args[\u001B[38;5;124m'\u001B[39m\u001B[38;5;124m_objName\u001B[39m\u001B[38;5;124m'\u001B[39m]  \u001B[38;5;66;03m## identifies object type\u001B[39;00m\n",
      "File \u001B[0;32m~/Documents/PyEnvPhysique/lib/python3.12/site-packages/vpython/vpython.py:265\u001B[0m, in \u001B[0;36mbaseObj.__init__\u001B[0;34m(self, **kwargs)\u001B[0m\n\u001B[1;32m    262\u001B[0m \u001B[38;5;28;01mif\u001B[39;00m \u001B[38;5;129;01mnot\u001B[39;00m (baseObj\u001B[38;5;241m.\u001B[39m_view_constructed \u001B[38;5;129;01mor\u001B[39;00m\n\u001B[1;32m    263\u001B[0m         baseObj\u001B[38;5;241m.\u001B[39m_canvas_constructing):\n\u001B[1;32m    264\u001B[0m     \u001B[38;5;28;01mif\u001B[39;00m _isnotebook:\n\u001B[0;32m--> 265\u001B[0m         \u001B[38;5;28;01mfrom\u001B[39;00m\u001B[38;5;250m \u001B[39m\u001B[38;5;21;01m.\u001B[39;00m\u001B[38;5;21;01mwith_notebook\u001B[39;00m\u001B[38;5;250m \u001B[39m\u001B[38;5;28;01mimport\u001B[39;00m _\n\u001B[1;32m    266\u001B[0m     \u001B[38;5;28;01melse\u001B[39;00m:\n\u001B[1;32m    267\u001B[0m         \u001B[38;5;28;01mfrom\u001B[39;00m\u001B[38;5;250m \u001B[39m\u001B[38;5;21;01m.\u001B[39;00m\u001B[38;5;21;01mno_notebook\u001B[39;00m\u001B[38;5;250m \u001B[39m\u001B[38;5;28;01mimport\u001B[39;00m _\n",
      "File \u001B[0;32m~/Documents/PyEnvPhysique/lib/python3.12/site-packages/vpython/with_notebook.py:154\u001B[0m\n\u001B[1;32m    152\u001B[0m baseObj\u001B[38;5;241m.\u001B[39mglow \u001B[38;5;241m=\u001B[39m GlowWidget(wsport\u001B[38;5;241m=\u001B[39m__SOCKET_PORT, wsuri\u001B[38;5;241m=\u001B[39m\u001B[38;5;124m'\u001B[39m\u001B[38;5;124m/ws\u001B[39m\u001B[38;5;124m'\u001B[39m)\n\u001B[1;32m    153\u001B[0m \u001B[38;5;28;01mwhile\u001B[39;00m (\u001B[38;5;129;01mnot\u001B[39;00m wsConnected):\n\u001B[0;32m--> 154\u001B[0m     \u001B[43mtime\u001B[49m\u001B[38;5;241;43m.\u001B[39;49m\u001B[43msleep\u001B[49m\u001B[43m(\u001B[49m\u001B[38;5;241;43m0.1\u001B[39;49m\u001B[43m)\u001B[49m          \u001B[38;5;66;03m# wait for websocket to connect\u001B[39;00m\n\u001B[1;32m    156\u001B[0m baseObj\u001B[38;5;241m.\u001B[39mtrigger()  \u001B[38;5;66;03m# start the trigger ping-pong process\u001B[39;00m\n\u001B[1;32m    159\u001B[0m \u001B[38;5;66;03m# Same justification as above for removing the ipykernel check.\u001B[39;00m\n\u001B[1;32m    160\u001B[0m \u001B[38;5;66;03m# There was also an IPython version check for >=4, which was\u001B[39;00m\n\u001B[1;32m    161\u001B[0m \u001B[38;5;66;03m# released in Nov 2015. Ok to stop supporting in 2.019 I think.\u001B[39;00m\n",
      "\u001B[0;31mKeyboardInterrupt\u001B[0m: "
     ]
    }
   ],
   "execution_count": 25
  },
  {
   "cell_type": "markdown",
   "metadata": {},
   "source": [
    "### Questions statistiques ###"
   ]
  },
  {
   "cell_type": "markdown",
   "metadata": {},
   "source": [
    "**I.** _(3 points)_  &mdash; Utilisez la liste finale des vecteurs de quantité de mouvement $\\vec{p}$ de toutes les sphères pour calculer la moyenne de son carré $\\langle p^2\\rangle=\\langle\\vec{p}\\cdot\\vec{p}\\rangle$ en écrivant le code nécessaire dans la cellule qui suit. "
   ]
  },
  {
   "metadata": {
    "ExecuteTime": {
     "end_time": "2025-02-19T01:17:12.573451Z",
     "start_time": "2025-02-19T01:17:12.564141Z"
    }
   },
   "cell_type": "code",
   "source": [
    "import json\n",
    "import numpy as np\n",
    "\n",
    "\n",
    "# Charger les données du fichier JSON\n",
    "def get_quantite_mouvement(filename=\"p_data.json\"):\n",
    "    \"\"\"\n",
    "    Lit les données du fichier JSON et charge les quantités de mouvement.\n",
    "\n",
    "    Args:\n",
    "        filename (str): Nom du fichier contenant les données JSON.\n",
    "\n",
    "    Returns:\n",
    "        list: Liste des quantités de mouvement sous forme de listes 3D [x, y, z].\n",
    "    \"\"\"\n",
    "    with open(filename, 'r') as f:\n",
    "        data = json.load(f)\n",
    "    return [[item['x'], item['y'], item['z']] for item in data]\n",
    "\n",
    "\n",
    "# Lire et traiter les données\n",
    "p = get_quantite_mouvement()\n",
    "\n",
    "print(\"Quantité de mouvement de chaque particule :\", p)\n",
    "\n",
    "# Calculs des caractéristiques de p (p^2 et moyenne)\n",
    "p_carre = [np.dot(items, items) for items in p]\n",
    "\n",
    "p2_moyenne = np.mean(p_carre)\n",
    "\n",
    "print(f\"La moyenne de p^2 est : {p2_moyenne}\")"
   ],
   "outputs": [
    {
     "name": "stdout",
     "output_type": "stream",
     "text": [
      "Quantité de mouvement de chaque particule : [[-2.218160421244396e-24, -3.556213757469334e-24, 0.0], [-9.033844413572459e-24, -1.2266073424406533e-23, 0.0], [2.111705953472894e-24, -1.716591327928603e-24, 0.0], [-9.093797746381133e-24, -2.108743219237342e-24, 0.0], [-2.035287035361567e-24, -1.803129189106038e-24, 0.0], [-3.373984277883881e-24, -4.3307086005106716e-24, 0.0], [-2.7053335689285138e-24, 2.8267544043617746e-24, 0.0], [1.1554678906349393e-23, 1.0362371521236507e-23, 0.0], [3.861626890231001e-24, 4.449021491893816e-25, 0.0], [-1.3679229842605394e-24, 1.4564278339297584e-24, 0.0], [3.3138717778965485e-24, -5.246181308877877e-24, 0.0], [5.7840466557823304e-24, 1.3476336811819386e-24, 0.0], [-1.9405473235436712e-24, 3.1433693542866548e-24, 0.0], [-6.793963230233427e-24, -1.0559150110706582e-24, 0.0], [-6.5409865438247714e-24, 1.055799596526705e-24, 0.0], [-1.962715227111759e-24, -2.300089507698536e-24, 0.0], [-1.5449233719892222e-25, -2.244793429515921e-24, 0.0], [3.410204660536557e-24, -1.4476065359030626e-24, 0.0], [-3.0428464803659893e-24, 2.6020847541774324e-24, 0.0], [5.7979202040336525e-24, -4.797033392930404e-24, 0.0], [8.433884217435937e-25, -1.1629846219832447e-23, 0.0], [-1.6977307526778208e-24, -7.26070669418146e-24, 0.0], [2.4063095385345203e-24, 3.613258577842652e-24, 0.0], [-7.068844470364436e-25, 6.942968400307177e-24, 0.0], [1.0402543262986019e-24, 6.2063874950644314e-24, 0.0], [5.7042832346315204e-24, -6.21154838772479e-24, 0.0], [-1.2545235169482417e-24, 1.414650222326695e-23, 0.0], [-3.4979211219834674e-24, 3.2216610307142545e-24, 0.0], [4.0988964742810654e-24, -4.9806310326511815e-24, 0.0], [3.136387304663696e-24, 4.694810960606288e-24, 0.0], [6.129778761828887e-24, 3.569069211142754e-24, 0.0], [1.2341030249026459e-23, -6.803028173157997e-25, 0.0], [6.104288649070082e-24, -4.130122721441837e-24, 0.0], [1.5041596649110235e-24, 9.102849878923119e-24, 0.0], [-5.360797673046751e-25, -3.043019319738953e-25, 0.0], [-4.64927350056293e-24, -1.2345925618750969e-23, 0.0], [-3.020648054920502e-24, 2.3988250688492215e-24, 0.0], [-2.2494369143195038e-24, -7.89211789750054e-24, 0.0], [-4.065487806302425e-24, -7.871274823768903e-24, 0.0], [8.16879276993475e-24, 6.582683079120983e-24, 0.0], [4.76300521489168e-24, -5.636056188670177e-25, 0.0], [1.2864752480298718e-23, -3.359031849543466e-24, 0.0], [3.5417346558589017e-25, -1.0056796788850071e-23, 0.0], [-6.924040505034238e-24, 4.352949089995497e-24, 0.0], [1.5764520350033992e-23, 7.455720877370101e-24, 0.0], [1.511366198884672e-24, 6.948646321570402e-24, 0.0], [1.8629651562437248e-25, -6.504386127975351e-24, 0.0], [6.908993464115289e-24, 5.197162854707424e-25, 0.0], [1.7347702235729855e-23, -5.481278002782823e-24, 0.0], [-7.806856446632784e-24, -2.1032646194788183e-24, 0.0], [8.419392800438498e-24, 4.1616401912171566e-24, 0.0], [-8.568050000911217e-24, 5.4105342510790734e-24, 0.0], [1.015593318787084e-23, 3.811784410570125e-24, 0.0], [2.5690360052741182e-24, -1.1527946134867803e-24, 0.0], [1.8794652844423685e-24, 4.075469741562208e-24, 0.0], [3.183647738656846e-24, -5.616737339248607e-25, 0.0], [5.2049440126602075e-24, -7.371697989589676e-24, 0.0], [-1.3044358328896262e-24, 1.7794620889519046e-24, 0.0], [8.576965950879071e-24, 4.395819754722159e-24, 0.0], [-4.487425285132659e-24, 6.898858107914354e-24, 0.0], [3.7539406662771974e-24, 5.673255576012528e-25, 0.0], [7.81793174497023e-25, -5.254101089001957e-25, 0.0], [-2.5439281598874586e-24, 2.4610866200988227e-24, 0.0], [2.229593494173974e-24, -4.867219717448219e-24, 0.0], [-2.0046567884250633e-24, -1.6089376528873375e-25, 0.0], [-9.118527844159964e-25, 1.566855567494861e-23, 0.0], [3.452140746172093e-24, -5.649946827324531e-24, 0.0], [-1.0427377168368617e-23, -4.779747160343556e-24, 0.0], [2.109348975985779e-24, 4.883182148819312e-24, 0.0], [4.009131220650119e-24, -2.8077257116562838e-24, 0.0], [3.429032124860017e-24, -1.215589444239348e-24, 0.0], [-2.5100035329433166e-24, -2.6061334113629973e-24, 0.0], [3.1072127546987794e-25, -2.9601330425119087e-24, 0.0], [-1.4441293889583106e-24, -8.709712379177737e-24, 0.0], [2.261998305508307e-24, -2.7357964138796663e-24, 0.0], [5.409598660115062e-24, -4.096378708539746e-24, 0.0], [-3.9218476462897086e-24, 1.2577904175990052e-23, 0.0], [1.334121473445406e-23, 1.0504535763869318e-24, 0.0], [-6.113385277853102e-25, 1.688145966603425e-24, 0.0], [4.162607290554603e-25, 3.918071651313198e-24, 0.0], [-2.8101860905586937e-24, -2.853766443855556e-24, 0.0], [-9.594855023826063e-24, 3.690530093397432e-24, 0.0], [5.877706324543913e-25, -5.355049127590215e-25, 0.0], [-5.350864115787873e-24, 3.0590144972677453e-24, 0.0], [-4.453312991797244e-24, 2.623740410361627e-25, 0.0], [2.698581388252936e-24, -4.637986788477031e-24, 0.0], [-8.951148136198696e-24, 4.7415909759121495e-24, 0.0], [-3.4016395762882054e-25, 1.721044863349938e-25, 0.0], [6.524747577812614e-24, 9.39070355403432e-25, 0.0], [3.5129314224904365e-24, 8.837697207363247e-25, 0.0], [8.247571122625783e-24, 3.902222384458672e-24, 0.0], [1.1057873817884898e-24, -7.926328167186801e-25, 0.0], [5.932236023349717e-24, -5.5988681370582284e-24, 0.0], [-4.792620710779385e-24, -5.42867504863814e-24, 0.0], [-1.4431341003791813e-24, -1.664661096731335e-24, 0.0], [-2.062542585946831e-24, 5.609839835725349e-24, 0.0], [-8.079018962281484e-25, -8.696452403226014e-24, 0.0], [-3.3020407155309877e-24, -5.879108079475518e-24, 0.0], [3.870147871252023e-24, 6.967698448042954e-24, 0.0], [-2.503292943328288e-24, 3.2609529728244355e-24, 0.0], [3.3967232435128064e-24, 2.1617673565447086e-25, 0.0], [-7.991699374788198e-24, 2.9426144400671094e-24, 0.0], [-3.463172984768293e-24, 5.590744211547454e-24, 0.0], [7.65060342941047e-25, 1.6575262044837856e-24, 0.0], [-7.587656707455567e-24, 7.238299431041452e-25, 0.0], [-1.026572231680213e-23, 3.3240806703917755e-24, 0.0], [-2.4746174894454553e-25, 3.712465714250792e-24, 0.0], [1.2403253513354911e-24, -3.353999839998664e-24, 0.0], [5.4861996393498855e-24, 8.92725187104888e-24, 0.0], [-7.226265078673095e-24, -5.402785855521329e-24, 0.0], [6.893189268724481e-24, -5.2012167763695795e-24, 0.0], [8.682540496146114e-24, 4.3744802433088595e-24, 0.0], [-6.848513569875274e-24, -5.919846750053791e-24, 0.0], [-1.0676941068014804e-25, -4.1707623254077235e-24, 0.0], [-1.1439802202162802e-24, -6.366763935323973e-24, 0.0], [-8.929487907257594e-24, -7.319631696293112e-24, 0.0], [-7.313280097240614e-24, 1.5156993421949756e-24, 0.0], [-7.703506704284419e-25, -2.4902494594130375e-24, 0.0], [6.917890769338285e-24, -2.21861590291723e-25, 0.0], [-1.4056838273488882e-24, -4.255524902120861e-24, 0.0], [-3.4923931198328195e-24, 6.551696680531502e-24, 0.0], [-6.432167844615178e-24, 4.02138991754772e-24, 0.0], [1.8380994859520817e-24, 6.981745515124717e-25, 0.0], [1.803570506636731e-24, 5.2481152007303586e-24, 0.0], [-6.135445384640121e-24, -4.5646410658591995e-25, 0.0], [-1.3957132535813812e-24, -2.5416799028370845e-24, 0.0], [-8.844874410501795e-24, -2.6338302170567823e-24, 0.0], [-2.5125600413241736e-24, -8.930874592654516e-24, 0.0], [-1.3696579253491638e-24, -4.514216015431438e-25, 0.0], [3.690494322859346e-24, 3.208945742502908e-24, 0.0], [-1.2252011942174839e-23, 5.312848359755457e-26, 0.0], [-3.9674050223282864e-24, -4.759847448305401e-24, 0.0], [2.7162221934928543e-24, 1.2358465813010601e-24, 0.0], [-2.93713978178785e-24, -8.459833661518175e-24, 0.0], [2.0104586185689573e-24, -2.2108638182822607e-24, 0.0], [-3.0429367915867817e-24, 3.2031781651842926e-24, 0.0], [-7.650631863924138e-24, 2.9049504712955384e-24, 0.0], [4.343116602664015e-24, 9.899902636032444e-24, 0.0], [1.5861762863215042e-24, -8.895359288440655e-24, 0.0], [4.0636538272215754e-24, 8.032802382410523e-25, 0.0], [-3.469568020267606e-24, -3.495532664524587e-25, 0.0], [-2.9217805687762656e-24, -5.361729291458409e-24, 0.0], [5.306410979980904e-24, 5.18608320404674e-24, 0.0], [8.35156922099993e-24, 5.006380053250635e-24, 0.0], [6.821383239730465e-24, 5.691989559307588e-24, 0.0], [9.681992005505455e-26, 2.580859037150966e-25, 0.0], [1.8205901359433867e-25, 1.356411047993521e-24, 0.0], [-6.235956023043804e-24, -7.218710669467379e-24, 0.0], [8.194838575622611e-24, 7.160495031208957e-25, 0.0], [-1.8847954781812308e-24, -1.6049782252897633e-24, 0.0], [4.4219494983938446e-24, -3.2258335636191192e-24, 0.0], [-9.457175517477479e-26, 2.500069538710896e-25, 0.0], [-8.171995597815196e-25, 2.6001806121261244e-24, 0.0], [-4.8507173721133276e-24, -5.235939049553929e-25, 0.0], [-2.2566736432372136e-24, 2.6208121788227777e-24, 0.0], [6.326105821091885e-24, -6.776215026501758e-24, 0.0], [2.5654083962376976e-24, 1.7676939200241225e-24, 0.0], [1.2217905244242633e-24, -2.7831297853286213e-24, 0.0], [3.8109480384198365e-24, -4.898887116469241e-24, 0.0], [2.2631934511283024e-24, 1.4540921169833372e-24, 0.0], [-5.3323253166440324e-24, 5.443380938027008e-24, 0.0], [3.7913905803982745e-24, -3.776528919505098e-24, 0.0], [-2.5512041576560456e-24, 3.616240214427771e-24, 0.0], [-6.873038713511782e-24, 7.483800043163295e-25, 0.0], [4.209247735890263e-25, 9.655734819371477e-24, 0.0], [5.301479370955322e-25, 6.835870709608777e-24, 0.0], [-7.324230620327814e-24, 1.1487242896704163e-24, 0.0], [9.12419767034249e-25, -8.192122326863998e-24, 0.0], [4.646974318474324e-24, 4.1581671697265865e-24, 0.0], [-2.1564276468264523e-24, 7.606181758937792e-24, 0.0], [-1.0348199034487954e-23, -3.1311457494104575e-24, 0.0], [-3.6942087821925146e-24, 4.513348570071216e-24, 0.0], [-9.532438601584625e-24, -4.391030563081152e-25, 0.0], [1.2523095295208535e-23, 6.434104765145699e-25, 0.0], [-6.477919740319127e-24, 9.929348018189217e-25, 0.0], [-1.0707242529350885e-24, 4.694086405308305e-24, 0.0], [-5.988340544471511e-24, 5.8251497566457845e-24, 0.0], [5.467151183974958e-24, 3.0715114798552434e-24, 0.0], [3.669801450743382e-24, 3.506412499407681e-25, 0.0], [5.04735451302868e-25, 7.225026090461416e-25, 0.0], [8.904288050416865e-24, -4.413835425456036e-25, 0.0], [2.9418550028685323e-24, -2.775135372906838e-25, 0.0], [5.129285889953456e-24, 1.4393211404700076e-25, 0.0], [2.9602261835881692e-24, 3.7867170689267464e-24, 0.0], [8.22973095034555e-24, 6.2864025401170005e-24, 0.0], [-1.0097985015792683e-23, -6.813326162039969e-24, 0.0], [-5.5926467798903895e-24, 6.1644619258048385e-24, 0.0], [5.997753095338218e-24, 1.4529875479010522e-24, 0.0], [-2.242261806203076e-24, 8.893033528040752e-24, 0.0], [-4.1205998194220815e-24, -2.6809364810767037e-24, 0.0], [4.64275608118031e-24, 4.774381328775058e-24, 0.0], [-4.518962694963261e-24, 7.249151614247551e-24, 0.0], [2.477329552127163e-24, 3.995119234409185e-24, 0.0], [-1.88824420962375e-24, 1.3327852362001595e-23, 0.0], [1.8715463942245297e-24, 3.206702177929353e-24, 0.0], [1.4291706926257611e-24, -6.191632630204896e-24, 0.0], [6.243131386211778e-24, -6.919066577234667e-25, 0.0], [1.9400180339696255e-24, -3.327575929968942e-24, 0.0], [-4.246486054961506e-24, 1.364531824775728e-23, 0.0], [8.973118118979299e-25, 3.99057310105504e-24, 0.0]]\n",
      "La moyenne de p^2 est : 5.600000000000001e-47\n"
     ]
    }
   ],
   "execution_count": 32
  },
  {
   "metadata": {},
   "cell_type": "markdown",
   "source": [
    "\n",
    "**II.** _(2 points)_  &mdash; La température $T$ (macroscopique) est proportionnelle à l'énergie cinétique moyenne $E_{cin}$ de l'ensemble des particules lorsque ce système est rendu à l'équilibre. Celle-ci peut se calculer classiquement selon son <a href=\"https://fr.wikipedia.org/wiki/%C3%89quipartition_de_l%27%C3%A9nergie\">principe d'équipartition</a>, _i.e._ en répartissant l'énergie également sur chaque degré de liberté ici en translation seulement d'où, au total pour $\\text{DIM}=1,2\\text{ ou } 3$ dimensions d'espace réel,\n",
    "\\begin{equation}\n",
    "E_{cin}=\\frac{\\langle p^2 \\rangle}{2m}=\\text{DIM}\\times\\frac{1}{2}k_BT\n",
    "\\end{equation}\n",
    "avec $k_B$, la constante de Boltzmann et $m$, la masse de chaque particule. Quelle est la température du gaz de sphères dures à la fin de la simulation? Est-ce qu'elle a changé significativement par rapport à sa valeur initiale?"
   ]
  },
  {
   "metadata": {},
   "cell_type": "code",
   "outputs": [],
   "execution_count": null,
   "source": [
    "\n",
    "#"
   ]
  },
  {
   "cell_type": "markdown",
   "metadata": {
    "nteract": {
     "transient": {
      "deleting": false
     }
    }
   },
   "source": [
    "**III.** _(10 points)_ &mdash; Modifiez le code de la simulation pour ajouter une fonction qui suit la trajectoire d'UNE SEULE particule, c'est-à-dire qu'elle doit enregistrer, dans une liste, des valeurs de variables pour cette particule et ce, à chacune de ses collisions avec une autre particule (_i.e._ excluez les collisions avec les parois de la boîte). Les deux variables scalaires à lister sont:\n",
    "- la distance que la particule a parcouru entre chaque collision,\n",
    "- le temps écoulé entre ces collisions.\n",
    "\n",
    "Copiez le code de votre fonction dans la cellule qui suit en y commentant clairement les variables pour ces listes qui devront persister après avoir interrompu l'exécution de la simulation. N'oubliez pas d'inclure votre fichier Python (`.py`) modifié avec la simulation complète lors de la remise."
   ]
  },
  {
   "cell_type": "code",
   "execution_count": null,
   "metadata": {
    "nteract": {
     "transient": {
      "deleting": false
     }
    }
   },
   "outputs": [],
   "source": [
    "\n",
    "#"
   ]
  },
  {
   "cell_type": "markdown",
   "metadata": {
    "nteract": {
     "transient": {
      "deleting": false
     }
    }
   },
   "source": [
    "**IV.** _(2 points)_ &mdash; Calculez le **libre parcours moyen** $l_{moy}$ et le **temps de collision** $\\tau$ qui sont les valeurs moyennes des deux listes compilées au numéro précédent.\n",
    "\n",
    "_(Pour votre information, le libre parcours moyen est de l’ordre de 100 nm dans l'air à température et pression ambiantes, mais_ $l_{moy}$ _peut dépasser 100 000 km dans une enceinte sous vide avec les technologies de pompes modernes!)_\n",
    "\n"
   ]
  },
  {
   "cell_type": "code",
   "execution_count": null,
   "metadata": {
    "nteract": {
     "transient": {
      "deleting": false
     }
    }
   },
   "outputs": [],
   "source": [
    "\n",
    "#"
   ]
  },
  {
   "cell_type": "markdown",
   "metadata": {
    "nteract": {
     "transient": {
      "deleting": false
     }
    }
   },
   "source": [
    "**V.** _(2 points)_ Calculez la vitesse $\\vec{v}$ de la particule entre chaque paire de collisions. Quelle est la vitesse moyenne $\\langle\\vec{v}\\rangle$ de la particule?"
   ]
  },
  {
   "cell_type": "code",
   "execution_count": null,
   "metadata": {
    "nteract": {
     "transient": {
      "deleting": false
     }
    }
   },
   "outputs": [],
   "source": [
    "\n",
    "#"
   ]
  },
  {
   "cell_type": "markdown",
   "metadata": {
    "nteract": {
     "transient": {
      "deleting": false
     }
    }
   },
   "source": [
    "**VI.** _(5 points)_ &mdash; Pour cette même liste de vitesses, comparez les distributions de la norme $||\\vec{v}||$, du carré $v^2$ et d’une de ses composantes $v_x^2$ en étalonnant l’abscisse pour contraster les histogrammes avec une échelle appropriée. Indiquez sur ce graphique la moyenne, le mode, la médiane et la moyenne quadratique des distributions."
   ]
  },
  {
   "cell_type": "code",
   "execution_count": null,
   "metadata": {
    "nteract": {
     "transient": {
      "deleting": false
     }
    }
   },
   "outputs": [],
   "source": [
    "\n",
    "#"
   ]
  },
  {
   "cell_type": "markdown",
   "metadata": {},
   "source": [
    "**Bonus.** _(4 points)_ &mdash; Montrez que \n",
    "- (a) le théorème central limite est satisfait par une des distributions de vitesse du numéro précédent,\n",
    "- (b) le système simulé est ergodique."
   ]
  },
  {
   "cell_type": "code",
   "execution_count": null,
   "metadata": {
    "nteract": {
     "transient": {
      "deleting": false
     }
    }
   },
   "outputs": [],
   "source": [
    "\n",
    "#"
   ]
  },
  {
   "cell_type": "markdown",
   "metadata": {
    "nteract": {
     "transient": {
      "deleting": false
     }
    }
   },
   "source": [
    "# Médiagraphie #\n",
    " - La simulation utilise la librairie <a href=\"https://vpython.org\">VPython</a> conçue pour la visualisation de physique en 3D, avec les instructions d’installation <a href=\"https://vpython.org/presentation2018/install.html\">ici</a> et la documentation <a href=\"https://www.glowscript.org/docs/VPythonDocs/index.html\">ici</a>. Le script fourni qui est exécuté dans ce _Notebook_ adapte en 2D et commente en détail l’exemple <a href=\"https://www.glowscript.org/#/user/GlowScriptDemos/folder/Examples/program/HardSphereGas-VPython\">HardSphereGas-VPython</a> du site interactif <a href=\"https://www.glowscript.org\">GlowScript</a> pour programmer des animations avec VPython directement en ligne.\n",
    " \n",
    "_**N.B. de débogage VPython:** Ayant plus codé en MATLAB qu'en Python jusqu'à maintenant, j'utilise Spyder qui offre une interface similaire, mais j'ai trouvé ce vidéo qui parle d'une <a href=\"https://www.youtube.com/watch?v=MJiVtz4Uj7M\">installation VS code</a> qui peut-être aider? N'hésitez pas à partager de meilleures alternatives que j'ajouterai ici. Vous pouvez aussi tenter l'installation <a href=\"https://jakevdp.github.io/blog/2017/12/05/installing-python-packages-from-jupyter/\">directement dans le Notebook</a>, mais au final chaque installation de distribution Python a son lot de <a href=\"https://xkcd.com/2347/\">défis avec les dépendances</a>. Si rien ne fonctionne, n'hésitez pas à contacter la sympathique communauté qui développe et utilise cette librairie VPython d'abord via leur <a href=\"https://groups.google.com/g/vpython-users\">groupe-forum</a>, puis leur <a href=\"https://github.com/vpython/vpython-jupyter\">site GitHub</a> de dépôt de développement. J'ai toujours eu de bonnes expériences d'interaction avec eux!_ \n",
    " "
   ]
  }
 ],
 "metadata": {
  "kernelspec": {
   "display_name": "Python 3",
   "language": "python",
   "name": "python3"
  },
  "language_info": {
   "codemirror_mode": {
    "name": "ipython",
    "version": 3
   },
   "file_extension": ".py",
   "mimetype": "text/x-python",
   "name": "python",
   "nbconvert_exporter": "python",
   "pygments_lexer": "ipython3",
   "version": "3.8.20"
  }
 },
 "nbformat": 4,
 "nbformat_minor": 4
}
