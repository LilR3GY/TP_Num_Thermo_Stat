{
 "cells": [
  {
   "cell_type": "markdown",
   "metadata": {},
   "source": [
    "<h1 style=\"text-align:center\">Travail pratique numérique en thermodynamique statistique</h1>\n",
    "<h2 style=\"text-align:center\">PARTIE 1 : Cinétique des gaz parfaits</h2>\n",
    "\n",
    "Veuillez indiquer le nom des membres de votre équipe dans la cellule suivante."
   ]
  },
  {
   "cell_type": "markdown",
   "metadata": {},
   "source": [
    "- Michael Hudon\n",
    "- Émile Poirier\n",
    "- Justin Binette\n",
    "- Sébastien Rouleau"
   ]
  },
  {
   "cell_type": "markdown",
   "metadata": {
    "nteract": {
     "transient": {
      "deleting": false
     }
    }
   },
   "source": [
    "# Introduction #\n",
    "Ce travail révise d'abord quelques bases générales de mécanique statistique classique avec le script `tds2Danimation_hXX.py` qui simule la théorie cinétique des gaz parfaits en 2D. Cette simulation utilise le concept de sphères dures, mais ici pour le cas des particules d'un gaz afin d'introduire des collisions élastiques entre elles sur leur trajectoire ballistique. Notez qu'une sphère est colorée et grossie seulement pour l’effet visuel dans l'animation, la physique de l’algorithme codé considère bien des particules totalement identiques. Les questions sur cette simulation, à répondre directement dans les cellules du carnet _(Notebook)_ ici-même, explorent quelques paramètres de la thermodynamique statistique et introduisent de nouveaux termes utiles à l'étude du mouvement des électrons dans la matière.\n",
    "\n",
    "_N.B._ \n",
    "- _Pour montrer les animations à l'écran, le script `tds2Danimation_hXX.py` importe la librairie `VPython` qu'il faut donc installer. Des liens vers sa documentation et de l'information complémentaire sont donnés dans la médiagraphie à la fin._\n",
    "- _Le code dans ce script est abusivement commenté dans notre contexte pédagogique, mais il serait bien sûr préférable de s’en tenir aux recommandations du <a href=\"https://www.python.org/dev/peps/pep-0008\"> PEP 8 — Style Guide for Python Code</a>._\n",
    "- _Notez finalement que la boucle principale à la fin du script laisse l'utilisateur voir l'animation aussi longtemps que souhaité, assurez-vous donc de savoir comment l'interrompre correctement avant de lancer la simulation ou de la remplacer par une boucle `for`._"
   ]
  },
  {
   "cell_type": "markdown",
   "metadata": {
    "nteract": {
     "transient": {
      "deleting": false
     }
    }
   },
   "source": [
    "# 1<sup>re</sup> partie - Cinétique CLASSIQUE des gaz parfaits #"
   ]
  },
  {
   "cell_type": "markdown",
   "metadata": {
    "nteract": {
     "transient": {
      "deleting": false
     }
    }
   },
   "source": [
    "### Simulation 2D ###"
   ]
  },
  {
   "cell_type": "code",
   "execution_count": 2,
   "metadata": {},
   "outputs": [
    {
     "data": {
      "text/html": [
       "<div id=\"glowscript\" class=\"glowscript\"></div>"
      ],
      "text/plain": [
       "<IPython.core.display.HTML object>"
      ]
     },
     "metadata": {},
     "output_type": "display_data"
    },
    {
     "data": {
      "application/javascript": "if (typeof Jupyter !== \"undefined\") { window.__context = { glowscript_container: $(\"#glowscript\").removeAttr(\"id\")};}else{ element.textContent = ' ';}",
      "text/plain": [
       "<IPython.core.display.Javascript object>"
      ]
     },
     "metadata": {},
     "output_type": "display_data"
    },
    {
     "data": {
      "text/html": [
       "<div id=\"glowscript\" class=\"glowscript\"></div>"
      ],
      "text/plain": [
       "<IPython.core.display.HTML object>"
      ]
     },
     "metadata": {},
     "output_type": "display_data"
    },
    {
     "data": {
      "application/javascript": "if (typeof Jupyter !== \"undefined\") { window.__context = { glowscript_container: $(\"#glowscript\").removeAttr(\"id\")};}else{ element.textContent = ' ';}",
      "text/plain": [
       "<IPython.core.display.Javascript object>"
      ]
     },
     "metadata": {},
     "output_type": "display_data"
    },
    {
     "ename": "KeyboardInterrupt",
     "evalue": "",
     "output_type": "error",
     "traceback": [
      "\u001b[1;31m---------------------------------------------------------------------------\u001b[0m",
      "\u001b[1;31mKeyboardInterrupt\u001b[0m                         Traceback (most recent call last)",
      "File \u001b[1;32m~\\OneDrive\\Documents\\GitHub\\TP_Num_Thermo_Stat\\tds2Danimation_h25.py:44\u001b[0m\n\u001b[0;32m     42\u001b[0m d \u001b[38;5;241m=\u001b[39m L\u001b[38;5;241m/\u001b[39m\u001b[38;5;241m2\u001b[39m\u001b[38;5;241m+\u001b[39mRatom\n\u001b[0;32m     43\u001b[0m r \u001b[38;5;241m=\u001b[39m \u001b[38;5;241m0.005\u001b[39m\n\u001b[1;32m---> 44\u001b[0m cadre \u001b[38;5;241m=\u001b[39m \u001b[43mcurve\u001b[49m\u001b[43m(\u001b[49m\u001b[43mcolor\u001b[49m\u001b[38;5;241;43m=\u001b[39;49m\u001b[43mgray\u001b[49m\u001b[43m,\u001b[49m\u001b[43m \u001b[49m\u001b[43mradius\u001b[49m\u001b[38;5;241;43m=\u001b[39;49m\u001b[43mr\u001b[49m\u001b[43m)\u001b[49m\n\u001b[0;32m     45\u001b[0m cadre\u001b[38;5;241m.\u001b[39mappend([vector(\u001b[38;5;241m-\u001b[39md,\u001b[38;5;241m-\u001b[39md,\u001b[38;5;241m0\u001b[39m), vector(d,\u001b[38;5;241m-\u001b[39md,\u001b[38;5;241m0\u001b[39m), vector(d,d,\u001b[38;5;241m0\u001b[39m), vector(\u001b[38;5;241m-\u001b[39md,d,\u001b[38;5;241m0\u001b[39m), vector(\u001b[38;5;241m-\u001b[39md,\u001b[38;5;241m-\u001b[39md,\u001b[38;5;241m0\u001b[39m)])\n\u001b[0;32m     47\u001b[0m \u001b[38;5;66;03m#### POSITION ET QUANTITÉ DE MOUVEMENT INITIALE DES SPHÈRES ####\u001b[39;00m\n",
      "File \u001b[1;32mc:\\Users\\micha\\AppData\\Local\\Programs\\Python\\Python312\\Lib\\site-packages\\vpython\\vpython.py:2069\u001b[0m, in \u001b[0;36mcurve.__init__\u001b[1;34m(self, *args1, **args)\u001b[0m\n\u001b[0;32m   2066\u001b[0m     tpos \u001b[38;5;241m=\u001b[39m args[\u001b[38;5;124m'\u001b[39m\u001b[38;5;124mpos\u001b[39m\u001b[38;5;124m'\u001b[39m]\n\u001b[0;32m   2067\u001b[0m     \u001b[38;5;28;01mdel\u001b[39;00m args[\u001b[38;5;124m'\u001b[39m\u001b[38;5;124mpos\u001b[39m\u001b[38;5;124m'\u001b[39m]\n\u001b[1;32m-> 2069\u001b[0m \u001b[38;5;28;43msuper\u001b[39;49m\u001b[43m(\u001b[49m\u001b[43mcurveMethods\u001b[49m\u001b[43m,\u001b[49m\u001b[43m \u001b[49m\u001b[38;5;28;43mself\u001b[39;49m\u001b[43m)\u001b[49m\u001b[38;5;241;43m.\u001b[39;49m\u001b[43msetup\u001b[49m\u001b[43m(\u001b[49m\u001b[43margs\u001b[49m\u001b[43m)\u001b[49m\n\u001b[0;32m   2071\u001b[0m \u001b[38;5;28;01mif\u001b[39;00m tpos \u001b[38;5;129;01mis\u001b[39;00m \u001b[38;5;129;01mnot\u001b[39;00m \u001b[38;5;28;01mNone\u001b[39;00m:\n\u001b[0;32m   2072\u001b[0m     \u001b[38;5;28;01mif\u001b[39;00m \u001b[38;5;28mlen\u001b[39m(args1) \u001b[38;5;241m>\u001b[39m \u001b[38;5;241m0\u001b[39m: \u001b[38;5;28;01mraise\u001b[39;00m \u001b[38;5;167;01mAttributeError\u001b[39;00m(\u001b[38;5;124m'\u001b[39m\u001b[38;5;124mMalformed constructor\u001b[39m\u001b[38;5;124m'\u001b[39m)\n",
      "File \u001b[1;32mc:\\Users\\micha\\AppData\\Local\\Programs\\Python\\Python312\\Lib\\site-packages\\vpython\\vpython.py:612\u001b[0m, in \u001b[0;36mstandardAttributes.setup\u001b[1;34m(self, args)\u001b[0m\n\u001b[0;32m    611\u001b[0m \u001b[38;5;28;01mdef\u001b[39;00m\u001b[38;5;250m \u001b[39m\u001b[38;5;21msetup\u001b[39m(\u001b[38;5;28mself\u001b[39m, args):\n\u001b[1;32m--> 612\u001b[0m     \u001b[38;5;28;43msuper\u001b[39;49m\u001b[43m(\u001b[49m\u001b[43mstandardAttributes\u001b[49m\u001b[43m,\u001b[49m\u001b[43m \u001b[49m\u001b[38;5;28;43mself\u001b[39;49m\u001b[43m)\u001b[49m\u001b[38;5;241;43m.\u001b[39;49m\u001b[38;5;21;43m__init__\u001b[39;49m\u001b[43m(\u001b[49m\u001b[43m)\u001b[49m\n\u001b[0;32m    613\u001b[0m     \u001b[38;5;28mself\u001b[39m\u001b[38;5;241m.\u001b[39m_constructing \u001b[38;5;241m=\u001b[39m \u001b[38;5;28;01mTrue\u001b[39;00m  \u001b[38;5;66;03m## calls to setters are from constructor\u001b[39;00m\n\u001b[0;32m    615\u001b[0m     objName \u001b[38;5;241m=\u001b[39m \u001b[38;5;28mself\u001b[39m\u001b[38;5;241m.\u001b[39m_objName \u001b[38;5;241m=\u001b[39m args[\u001b[38;5;124m'\u001b[39m\u001b[38;5;124m_objName\u001b[39m\u001b[38;5;124m'\u001b[39m]  \u001b[38;5;66;03m## identifies object type\u001b[39;00m\n",
      "File \u001b[1;32mc:\\Users\\micha\\AppData\\Local\\Programs\\Python\\Python312\\Lib\\site-packages\\vpython\\vpython.py:265\u001b[0m, in \u001b[0;36mbaseObj.__init__\u001b[1;34m(self, **kwargs)\u001b[0m\n\u001b[0;32m    262\u001b[0m \u001b[38;5;28;01mif\u001b[39;00m \u001b[38;5;129;01mnot\u001b[39;00m (baseObj\u001b[38;5;241m.\u001b[39m_view_constructed \u001b[38;5;129;01mor\u001b[39;00m\n\u001b[0;32m    263\u001b[0m         baseObj\u001b[38;5;241m.\u001b[39m_canvas_constructing):\n\u001b[0;32m    264\u001b[0m     \u001b[38;5;28;01mif\u001b[39;00m _isnotebook:\n\u001b[1;32m--> 265\u001b[0m         \u001b[38;5;28;01mfrom\u001b[39;00m\u001b[38;5;250m \u001b[39m\u001b[38;5;21;01m.\u001b[39;00m\u001b[38;5;21;01mwith_notebook\u001b[39;00m\u001b[38;5;250m \u001b[39m\u001b[38;5;28;01mimport\u001b[39;00m _\n\u001b[0;32m    266\u001b[0m     \u001b[38;5;28;01melse\u001b[39;00m:\n\u001b[0;32m    267\u001b[0m         \u001b[38;5;28;01mfrom\u001b[39;00m\u001b[38;5;250m \u001b[39m\u001b[38;5;21;01m.\u001b[39;00m\u001b[38;5;21;01mno_notebook\u001b[39;00m\u001b[38;5;250m \u001b[39m\u001b[38;5;28;01mimport\u001b[39;00m _\n",
      "File \u001b[1;32mc:\\Users\\micha\\AppData\\Local\\Programs\\Python\\Python312\\Lib\\site-packages\\vpython\\with_notebook.py:154\u001b[0m\n\u001b[0;32m    152\u001b[0m baseObj\u001b[38;5;241m.\u001b[39mglow \u001b[38;5;241m=\u001b[39m GlowWidget(wsport\u001b[38;5;241m=\u001b[39m__SOCKET_PORT, wsuri\u001b[38;5;241m=\u001b[39m\u001b[38;5;124m'\u001b[39m\u001b[38;5;124m/ws\u001b[39m\u001b[38;5;124m'\u001b[39m)\n\u001b[0;32m    153\u001b[0m \u001b[38;5;28;01mwhile\u001b[39;00m (\u001b[38;5;129;01mnot\u001b[39;00m wsConnected):\n\u001b[1;32m--> 154\u001b[0m     \u001b[43mtime\u001b[49m\u001b[38;5;241;43m.\u001b[39;49m\u001b[43msleep\u001b[49m\u001b[43m(\u001b[49m\u001b[38;5;241;43m0.1\u001b[39;49m\u001b[43m)\u001b[49m          \u001b[38;5;66;03m# wait for websocket to connect\u001b[39;00m\n\u001b[0;32m    156\u001b[0m baseObj\u001b[38;5;241m.\u001b[39mtrigger()  \u001b[38;5;66;03m# start the trigger ping-pong process\u001b[39;00m\n\u001b[0;32m    159\u001b[0m \u001b[38;5;66;03m# Same justification as above for removing the ipykernel check.\u001b[39;00m\n\u001b[0;32m    160\u001b[0m \u001b[38;5;66;03m# There was also an IPython version check for >=4, which was\u001b[39;00m\n\u001b[0;32m    161\u001b[0m \u001b[38;5;66;03m# released in Nov 2015. Ok to stop supporting in 2.019 I think.\u001b[39;00m\n",
      "\u001b[1;31mKeyboardInterrupt\u001b[0m: "
     ]
    }
   ],
   "source": [
    "%run tds2Danimation_h25.py\n",
    "# ou\n",
    "#%run tds3Dsim_h25.py #si disponible : script sans la lente animation Vpython qui est en développement à la session h25!\n",
    "# Remplacez \"XX\" par les deux derniers chiffres de l'année de votre session.\n",
    "# N'hésitez pas à exécuter l'animation 2D ou la simulation 3D à l'extérieur du _Notebook_. Cette cellule vise à préciser que les questions qui suivent se basent sur ces scripts et doivent mener aux mêmes répomses autant en 2D qu'en 3D."
   ]
  },
  {
   "cell_type": "markdown",
   "metadata": {},
   "source": [
    "### Questions statistiques ###"
   ]
  },
  {
   "cell_type": "markdown",
   "metadata": {},
   "source": [
    "**I.** _(3 points)_  &mdash; Utilisez la liste finale des vecteurs de quantité de mouvement $\\vec{p}$ de toutes les sphères pour calculer la moyenne de son carré $\\langle p^2\\rangle=\\langle\\vec{p}\\cdot\\vec{p}\\rangle$ en écrivant le code nécessaire dans la cellule qui suit. "
   ]
  },
  {
   "cell_type": "code",
   "execution_count": null,
   "metadata": {},
   "outputs": [
    {
     "name": "stdout",
     "output_type": "stream",
     "text": [
      "Quantité de mouvement de chaque particule : [[2.04433334093152e-24, -2.6107213858916623e-24], [-8.334586141426872e-26, 3.091952300718867e-24], [1.2233209811690742e-24, -1.564351722833652e-24], [-8.079138286574325e-24, -5.024655638877328e-24], [1.3967995976141518e-24, 1.7550432407621485e-24], [3.0567320361951698e-24, -1.0821283519005116e-23], [1.4893704277614318e-24, 2.004777077281179e-24], [2.8115844979240915e-24, 8.013294921880557e-25], [-6.4292842062228245e-24, -1.925722341631437e-24], [4.8052545059047265e-25, 5.5230305686422455e-24], [3.1915723070461e-24, 8.668472567404152e-24], [7.224132791273562e-24, -2.55236869722779e-24], [2.3718239706651676e-24, 8.026532202355598e-24], [8.30235246339434e-25, 3.617566666878316e-24], [9.707185251466608e-25, 6.769165640774976e-24], [-3.798257952377688e-24, 6.922142513682092e-24], [-1.5560698408641977e-24, 3.423211835769778e-24], [-1.253423419530669e-25, -2.746638765183635e-24], [9.988416159006328e-24, 1.137458468081778e-24], [1.7034900827894854e-24, -5.034125580872533e-24], [4.04536055906421e-24, 1.7638773055327217e-24], [-5.6449454603009625e-24, -7.678049564781156e-25], [1.1034175746324635e-23, 8.468293840801941e-24], [3.783242689556675e-24, -3.974355801932009e-24], [1.8667268112381927e-24, 2.8084818879335397e-24], [-6.973847046053746e-25, -7.1710152225424165e-25], [2.129517892812543e-24, 2.242207473299705e-24], [-6.938029190404079e-25, 8.871110197925246e-24], [3.325742748888291e-24, -6.045892017449107e-24], [2.8027698788156838e-24, -6.2633649049897515e-24], [-2.2675852704323606e-24, -4.694094750837118e-24], [1.884170615224047e-24, 7.042007506577077e-24], [1.935589560811339e-24, -5.655598161495867e-24], [-1.3954108611862913e-23, 6.532202438935949e-24], [4.07571402054747e-25, 9.53215002998415e-24], [-1.3091865444446389e-24, 8.208558068900306e-24], [3.8130840586039205e-24, -5.433627916741302e-24], [-1.0233089255226289e-23, -1.9490842721423025e-24], [-2.688124747746229e-24, 3.9801138829919563e-25], [-4.296166465636685e-24, -3.170455007990558e-24], [-5.044024878144434e-25, -4.611088625477023e-25], [2.1914520527145753e-24, 6.335995705084645e-24], [3.9536384375237572e-25, -4.9990009059905275e-24], [-4.5020337893311916e-24, 3.9494572373317177e-25], [5.978280553046309e-24, 1.4526626601674713e-24], [-3.2643304061607947e-24, -5.856285256841607e-24], [-8.2683765083446e-24, -6.877078274363994e-24], [1.2205982461926479e-23, -2.0175186867804323e-24], [-5.6657702664318395e-24, 8.016146418541769e-25], [-3.4740642068690004e-24, 1.4057972860564113e-24], [-1.4492973687147402e-24, -9.423383844307964e-25], [-1.4438585797568565e-24, -8.613771034453346e-24], [-7.766104145832045e-24, -2.695276699886259e-24], [1.8066424769816355e-24, 8.448935119748408e-24], [9.300215232621991e-24, -2.417618028617497e-24], [-9.618158781192767e-24, -1.5840886999284766e-24], [3.1001827597917936e-24, 1.2095402107474123e-23], [1.6133074807188812e-24, -1.1516190131930492e-24], [3.4165964028670456e-24, -2.8669710540009197e-24], [-1.349422894815768e-24, 9.78816725839561e-25], [-4.802818999810151e-24, 3.847374180285098e-24], [2.6405462851782345e-24, -1.3539107939557996e-24], [4.7067253192042175e-24, -4.166434020070547e-24], [5.84877974613471e-24, 1.5409063112679847e-23], [-2.2454654064985593e-24, -5.349784133595592e-25], [-4.400863269830695e-24, -1.664411586113974e-24], [1.3767948984082061e-23, -3.535867702664711e-24], [-2.6158174420693654e-24, -8.665150815980565e-24], [-3.9769557355923624e-24, -1.2961325343749967e-23], [2.2847381537742122e-24, -4.842861943760336e-24], [7.192391855212041e-24, -1.0222917021461777e-24], [-3.0580356295173473e-25, -1.3361857348721208e-23], [-3.885437225961285e-24, -6.241633546687344e-24], [-6.585306147934314e-24, -2.778477372527615e-24], [-1.0516591575080304e-24, 2.163698470558894e-25], [1.1424505123533659e-23, 1.4326040668514162e-24], [-4.180029919053399e-24, -7.021212384751332e-25], [1.5077920390686738e-24, 5.6610608354216284e-24], [-5.497666462376084e-24, 3.2981068251304817e-24], [6.3068217830460255e-24, -1.1288816241741807e-23], [-5.917320268231824e-25, 1.0219531541054373e-23], [-6.387253500263389e-25, 5.192501281630215e-24], [1.0450462657767096e-24, -6.852203095875158e-24], [8.777341177966828e-24, -4.825511362645371e-25], [-6.598890428814998e-24, -8.160700564706462e-24], [-9.41137964046604e-25, 9.555743511410773e-24], [6.449191601056294e-25, 9.722358090165937e-25], [-6.52039808719808e-25, 5.962025289077598e-25], [-2.451581927666836e-24, 5.056287962204371e-24], [6.522343440579692e-24, 3.269627106019768e-24], [2.5725591222748907e-24, -6.523927776569631e-24], [8.237770612903806e-24, -8.688646696984162e-24], [3.2695012523937188e-24, -5.821329823924164e-24], [-4.9472811018975445e-24, 6.0426224718004886e-24], [3.442133992304769e-24, -2.4838547689446082e-24], [3.492377325052726e-24, -2.020401671922783e-24], [-7.411276566802255e-24, 5.3915336426069564e-24], [-5.304075300286248e-24, -1.3170106956540401e-24], [-3.928493095808727e-24, -6.373810744673268e-24], [-2.873790792921447e-24, 6.555987594634977e-26], [-9.015016473386771e-24, -7.488169704459225e-24], [5.514420086198265e-24, 1.9767159385619802e-25], [9.868193660284186e-24, -8.548657183473827e-24], [3.9149902475390824e-24, 1.8304676711312357e-24], [-5.626067829608361e-24, -7.6189295958502e-24], [-7.550214855453615e-26, 3.645814396746816e-24], [-4.1593702141295686e-24, 3.2639512231987237e-24], [8.399014544875994e-24, -5.401784627026221e-24], [3.0169378243449946e-24, -1.3973493610444883e-24], [-7.380878252749256e-24, 5.16684045203704e-24], [-7.539896974905681e-24, -4.663857751313068e-24], [-2.9382173153349663e-24, -9.57368161903678e-25], [2.7009013200664073e-24, -1.804572997502475e-25], [1.919593194523859e-24, 4.868530428817521e-25], [-1.151833266116401e-24, 1.0750885192832863e-23], [-5.7383949768889614e-24, -6.2508582232682e-25], [-8.446070944563563e-24, -8.804390891086798e-25], [-1.7946193571063597e-25, -3.370867785963451e-24], [7.353490206722951e-24, -4.2213373370058245e-24], [-2.0169395301669094e-24, 2.6289045948703643e-24], [1.016312923447261e-23, -3.695718092537979e-25], [7.084292155183533e-24, -2.3401174153770085e-24], [8.211534716790693e-25, -2.985087555564047e-24], [7.553177401890251e-24, -7.639956944412805e-25], [-8.828833100712977e-24, 9.381276511343099e-24], [3.0733613229516817e-25, 1.4843128998899569e-24], [2.5488967634918446e-24, 4.72931215823482e-24], [3.112069333715106e-24, 7.735123163724278e-26], [3.872675759443289e-24, 2.2730601587511424e-24], [9.907968641389415e-24, -3.1242405727925604e-24], [-8.512459508796567e-25, -1.1230961491667622e-23], [2.6485820520769152e-24, 6.385651192246898e-24], [2.0801397439437834e-24, -5.623570935432038e-25], [5.459503077121774e-24, 4.841096730513678e-24], [4.4449491871322e-24, 1.0449913899906378e-23], [-3.1489142806373302e-24, 8.32894550087593e-24], [5.126073521029975e-24, 2.3895647479706344e-24], [6.59980421387227e-24, -5.736798774830356e-24], [-2.5291919072019773e-24, -2.2096943292590777e-24], [-4.646285119844079e-24, 2.027069050478146e-24], [6.667587290291976e-25, -4.16839979109459e-24], [3.637815584448348e-24, -3.0868633264218828e-24], [-9.718138799509657e-24, -1.5647598892257906e-24], [-1.4883718229884998e-25, 5.852192800230665e-24], [6.056647188242535e-24, -6.98332717631175e-24], [-1.1867450038554224e-24, 6.591657389394116e-24], [3.4078860109069814e-24, -2.21796803795563e-24], [-8.757960099163733e-24, -5.884873520056623e-25], [-3.49082366838792e-24, -6.771523051000865e-24], [5.862654961295531e-25, 4.908301561524309e-25], [-9.462737272804578e-25, -1.8288940018677405e-24], [5.652250342975383e-24, -1.1484321140938304e-24], [3.1255632891520896e-24, -7.754045176322203e-24], [2.8591832951004516e-24, 2.336567718515773e-24], [-2.870287415792139e-24, -5.353826410050394e-24], [-1.0501529879243774e-23, -1.0075706237320835e-23], [8.745369889087222e-25, -2.7300814145215077e-24], [5.497884088304835e-25, -1.7660274823613376e-24], [9.120533974597925e-24, -1.1323872394207375e-24], [-6.96860367390015e-24, 3.350351297784577e-24], [1.1598361227658706e-23, -1.4512735772675467e-24], [-3.722985505561872e-24, -2.130193810795106e-24], [4.6524116886368e-24, 2.48783036288232e-24], [3.2995571935689072e-24, 1.6517365621012437e-24], [-1.1231920763005516e-23, -3.556058229487531e-24], [2.0733348490475662e-24, -1.509357403273043e-25], [-4.782113383526449e-24, 7.769924537969234e-25], [-7.296690673932396e-24, 4.645622531754598e-24], [2.8306388137603947e-24, -6.954792420532687e-26], [7.559922671764606e-25, 2.5220865730163952e-24], [-1.1326102356138811e-23, 3.619614670256491e-24], [-5.450543094958809e-24, 2.088750834734858e-24], [1.9407022344298725e-24, 4.91772884745779e-24], [-1.113551833427896e-23, 3.970924562360663e-24], [-1.8975233548669633e-24, 4.22682493447486e-24], [6.0334305275092165e-24, 2.2879843671582314e-24], [-7.397067639672477e-24, 5.995052902137177e-25], [3.8257970661871745e-24, -1.2172485330675646e-24], [-8.246984570710016e-24, 4.60557808182436e-24], [-4.142057855671632e-24, -4.4827748042294616e-24], [5.593304904591163e-26, 1.323737277279701e-24], [1.0429855049978653e-23, 9.832532818779786e-25], [-1.4128176145443661e-24, -6.21625922109828e-24], [5.842343121997516e-24, 4.943301089184286e-24], [-7.881837506991413e-24, -3.4855814944460784e-24], [6.288044991124499e-24, 2.3614392026130964e-24], [1.2425010185011939e-24, 8.480852595640246e-24], [-1.8304753806981914e-24, -4.7199305310010505e-25], [6.495457839314026e-24, -1.1288662946791162e-24], [6.725181882402185e-24, 1.194806914988528e-23], [-6.5139823220498234e-24, -1.2645460726369461e-24], [2.200921098111678e-24, -1.5508124256153857e-24], [-4.637253097046017e-24, 1.1339284725947571e-23], [-7.330146791392505e-24, -3.859409788764449e-24], [1.5669095736032214e-24, 2.7092081460040924e-25], [-3.961475757772065e-24, 7.240126741046158e-24], [-2.0855893624363918e-24, 2.197219744705709e-24], [-4.553908164105498e-24, 8.500071669600364e-24], [-5.156921270593764e-24, -3.88909012659994e-24], [-4.262809528461736e-24, -5.453674191630768e-24]]\n",
      "La moyenne de p^2 est : 5.6e-47\n"
     ]
    }
   ],
   "source": [
    "import json\n",
    "import numpy as np\n",
    "\n",
    "# Charger les données du fichier JSON (généralisation pour 2D)\n",
    "def get_quantite_mouvement(filename=\"p_data.json\"):\n",
    "    with open(filename, 'r') as f:\n",
    "        data = json.load(f)\n",
    "    # Retourne toutes les dimensions disponibles (x, y)\n",
    "    return [[item.get('x', 0), item.get('y', 0)] for item in data]\n",
    "\n",
    "p = get_quantite_mouvement()\n",
    "\n",
    "p_x = [item[0] for item in p]  # Liste des composantes x\n",
    "p_y = [item[1] for item in p]  # Liste des composantes y\n",
    "\n",
    "p_carre = [x ** 2 + y ** 2 for x, y in zip(p_x, p_y)]\n",
    "\n",
    "# Calculer la moyenne de p^2\n",
    "p2_moyenne = np.mean(p_carre)\n",
    "\n",
    "# Afficher le résultat\n",
    "print(f\"La moyenne de p^2 est : {p2_moyenne}\")"
   ]
  },
  {
   "cell_type": "markdown",
   "metadata": {},
   "source": [
    "\n",
    "**II.** _(2 points)_  &mdash; La température $T$ (macroscopique) est proportionnelle à l'énergie cinétique moyenne $E_{cin}$ de l'ensemble des particules lorsque ce système est rendu à l'équilibre. Celle-ci peut se calculer classiquement selon son <a href=\"https://fr.wikipedia.org/wiki/%C3%89quipartition_de_l%27%C3%A9nergie\">principe d'équipartition</a>, _i.e._ en répartissant l'énergie également sur chaque degré de liberté ici en translation seulement d'où, au total pour $\\text{DIM}=1,2\\text{ ou } 3$ dimensions d'espace réel,\n",
    "\\begin{equation}\n",
    "E_{cin}=\\frac{\\langle p^2 \\rangle}{2m}=\\text{DIM}\\times\\frac{1}{2}k_BT\n",
    "\\end{equation}\n",
    "avec $k_B$, la constante de Boltzmann et $m$, la masse de chaque particule. Quelle est la température du gaz de sphères dures à la fin de la simulation? Est-ce qu'elle a changé significativement par rapport à sa valeur initiale?"
   ]
  },
  {
   "cell_type": "code",
   "execution_count": 1,
   "metadata": {},
   "outputs": [],
   "source": [
    "\n",
    "#"
   ]
  },
  {
   "cell_type": "markdown",
   "metadata": {
    "nteract": {
     "transient": {
      "deleting": false
     }
    }
   },
   "source": [
    "**III.** _(10 points)_ &mdash; Modifiez le code de la simulation pour ajouter une fonction qui suit la trajectoire d'UNE SEULE particule, c'est-à-dire qu'elle doit enregistrer, dans une liste, des valeurs de variables pour cette particule et ce, à chacune de ses collisions avec une autre particule (_i.e._ excluez les collisions avec les parois de la boîte). Les deux variables scalaires à lister sont:\n",
    "- la distance que la particule a parcouru entre chaque collision,\n",
    "- le temps écoulé entre ces collisions.\n",
    "\n",
    "Copiez le code de votre fonction dans la cellule qui suit en y commentant clairement les variables pour ces listes qui devront persister après avoir interrompu l'exécution de la simulation. N'oubliez pas d'inclure votre fichier Python (`.py`) modifié avec la simulation complète lors de la remise."
   ]
  },
  {
   "cell_type": "code",
   "execution_count": null,
   "metadata": {
    "nteract": {
     "transient": {
      "deleting": false
     }
    }
   },
   "outputs": [],
   "source": [
    "\n",
    "#"
   ]
  },
  {
   "cell_type": "markdown",
   "metadata": {
    "nteract": {
     "transient": {
      "deleting": false
     }
    }
   },
   "source": [
    "**IV.** _(2 points)_ &mdash; Calculez le **libre parcours moyen** $l_{moy}$ et le **temps de collision** $\\tau$ qui sont les valeurs moyennes des deux listes compilées au numéro précédent.\n",
    "\n",
    "_(Pour votre information, le libre parcours moyen est de l’ordre de 100 nm dans l'air à température et pression ambiantes, mais_ $l_{moy}$ _peut dépasser 100 000 km dans une enceinte sous vide avec les technologies de pompes modernes!)_\n",
    "\n"
   ]
  },
  {
   "cell_type": "code",
   "execution_count": null,
   "metadata": {
    "nteract": {
     "transient": {
      "deleting": false
     }
    }
   },
   "outputs": [],
   "source": [
    "\n",
    "#"
   ]
  },
  {
   "cell_type": "markdown",
   "metadata": {
    "nteract": {
     "transient": {
      "deleting": false
     }
    }
   },
   "source": [
    "**V.** _(2 points)_ Calculez la vitesse $\\vec{v}$ de la particule entre chaque paire de collisions. Quelle est la vitesse moyenne $\\langle\\vec{v}\\rangle$ de la particule?"
   ]
  },
  {
   "cell_type": "code",
   "execution_count": null,
   "metadata": {
    "nteract": {
     "transient": {
      "deleting": false
     }
    }
   },
   "outputs": [],
   "source": [
    "\n",
    "#"
   ]
  },
  {
   "cell_type": "markdown",
   "metadata": {
    "nteract": {
     "transient": {
      "deleting": false
     }
    }
   },
   "source": [
    "**VI.** _(5 points)_ &mdash; Pour cette même liste de vitesses, comparez les distributions de la norme $||\\vec{v}||$, du carré $v^2$ et d’une de ses composantes $v_x^2$ en étalonnant l’abscisse pour contraster les histogrammes avec une échelle appropriée. Indiquez sur ce graphique la moyenne, le mode, la médiane et la moyenne quadratique des distributions."
   ]
  },
  {
   "cell_type": "code",
   "execution_count": null,
   "metadata": {
    "nteract": {
     "transient": {
      "deleting": false
     }
    }
   },
   "outputs": [],
   "source": [
    "\n",
    "#"
   ]
  },
  {
   "cell_type": "markdown",
   "metadata": {},
   "source": [
    "**Bonus.** _(4 points)_ &mdash; Montrez que \n",
    "- (a) le théorème central limite est satisfait par une des distributions de vitesse du numéro précédent,\n",
    "- (b) le système simulé est ergodique."
   ]
  },
  {
   "cell_type": "code",
   "execution_count": null,
   "metadata": {
    "nteract": {
     "transient": {
      "deleting": false
     }
    }
   },
   "outputs": [],
   "source": [
    "\n",
    "#"
   ]
  },
  {
   "cell_type": "markdown",
   "metadata": {
    "nteract": {
     "transient": {
      "deleting": false
     }
    }
   },
   "source": [
    "# Médiagraphie #\n",
    " - La simulation utilise la librairie <a href=\"https://vpython.org\">VPython</a> conçue pour la visualisation de physique en 3D, avec les instructions d’installation <a href=\"https://vpython.org/presentation2018/install.html\">ici</a> et la documentation <a href=\"https://www.glowscript.org/docs/VPythonDocs/index.html\">ici</a>. Le script fourni qui est exécuté dans ce _Notebook_ adapte en 2D et commente en détail l’exemple <a href=\"https://www.glowscript.org/#/user/GlowScriptDemos/folder/Examples/program/HardSphereGas-VPython\">HardSphereGas-VPython</a> du site interactif <a href=\"https://www.glowscript.org\">GlowScript</a> pour programmer des animations avec VPython directement en ligne.\n",
    " \n",
    "_**N.B. de débogage VPython:** Ayant plus codé en MATLAB qu'en Python jusqu'à maintenant, j'utilise Spyder qui offre une interface similaire, mais j'ai trouvé ce vidéo qui parle d'une <a href=\"https://www.youtube.com/watch?v=MJiVtz4Uj7M\">installation VS code</a> qui peut-être aider? N'hésitez pas à partager de meilleures alternatives que j'ajouterai ici. Vous pouvez aussi tenter l'installation <a href=\"https://jakevdp.github.io/blog/2017/12/05/installing-python-packages-from-jupyter/\">directement dans le Notebook</a>, mais au final chaque installation de distribution Python a son lot de <a href=\"https://xkcd.com/2347/\">défis avec les dépendances</a>. Si rien ne fonctionne, n'hésitez pas à contacter la sympathique communauté qui développe et utilise cette librairie VPython d'abord via leur <a href=\"https://groups.google.com/g/vpython-users\">groupe-forum</a>, puis leur <a href=\"https://github.com/vpython/vpython-jupyter\">site GitHub</a> de dépôt de développement. J'ai toujours eu de bonnes expériences d'interaction avec eux!_ \n",
    " "
   ]
  }
 ],
 "metadata": {
  "kernelspec": {
   "display_name": "Python 3",
   "language": "python",
   "name": "python3"
  },
  "language_info": {
   "codemirror_mode": {
    "name": "ipython",
    "version": 3
   },
   "file_extension": ".py",
   "mimetype": "text/x-python",
   "name": "python",
   "nbconvert_exporter": "python",
   "pygments_lexer": "ipython3",
   "version": "3.12.2"
  }
 },
 "nbformat": 4,
 "nbformat_minor": 4
}
