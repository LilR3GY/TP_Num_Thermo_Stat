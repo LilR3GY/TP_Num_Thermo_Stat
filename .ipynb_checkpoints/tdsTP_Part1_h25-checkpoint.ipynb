{
 "cells": [
  {
   "cell_type": "markdown",
   "metadata": {},
   "source": [
    "<h1 style=\"text-align:center\">Travail pratique numérique en thermodynamique statistique</h1>\n",
    "<h2 style=\"text-align:center\">PARTIE 1 : Cinétique des gaz parfaits</h2>\n",
    "\n",
    "Veuillez indiquer le nom des membres de votre équipe dans la cellule suivante."
   ]
  },
  {
   "cell_type": "markdown",
   "metadata": {},
   "source": [
    "- Michael Hudon\n",
    "- Émile Poirier\n",
    "- Justin Binette\n",
    "- Sébastien Rouleau"
   ]
  },
  {
   "cell_type": "markdown",
   "metadata": {
    "nteract": {
     "transient": {
      "deleting": false
     }
    }
   },
   "source": [
    "# Introduction #\n",
    "Ce travail révise d'abord quelques bases générales de mécanique statistique classique avec le script `tds2Danimation_hXX.py` qui simule la théorie cinétique des gaz parfaits en 2D. Cette simulation utilise le concept de sphères dures, mais ici pour le cas des particules d'un gaz afin d'introduire des collisions élastiques entre elles sur leur trajectoire ballistique. Notez qu'une sphère est colorée et grossie seulement pour l’effet visuel dans l'animation, la physique de l’algorithme codé considère bien des particules totalement identiques. Les questions sur cette simulation, à répondre directement dans les cellules du carnet _(Notebook)_ ici-même, explorent quelques paramètres de la thermodynamique statistique et introduisent de nouveaux termes utiles à l'étude du mouvement des électrons dans la matière.\n",
    "\n",
    "_N.B._ \n",
    "- _Pour montrer les animations à l'écran, le script `tds2Danimation_hXX.py` importe la librairie `VPython` qu'il faut donc installer. Des liens vers sa documentation et de l'information complémentaire sont donnés dans la médiagraphie à la fin._\n",
    "- _Le code dans ce script est abusivement commenté dans notre contexte pédagogique, mais il serait bien sûr préférable de s’en tenir aux recommandations du <a href=\"https://www.python.org/dev/peps/pep-0008\"> PEP 8 — Style Guide for Python Code</a>._\n",
    "- _Notez finalement que la boucle principale à la fin du script laisse l'utilisateur voir l'animation aussi longtemps que souhaité, assurez-vous donc de savoir comment l'interrompre correctement avant de lancer la simulation ou de la remplacer par une boucle `for`._"
   ]
  },
  {
   "cell_type": "markdown",
   "metadata": {
    "nteract": {
     "transient": {
      "deleting": false
     }
    }
   },
   "source": [
    "# 1<sup>re</sup> partie - Cinétique CLASSIQUE des gaz parfaits #"
   ]
  },
  {
   "cell_type": "markdown",
   "metadata": {
    "nteract": {
     "transient": {
      "deleting": false
     }
    }
   },
   "source": [
    "### Simulation 2D ###"
   ]
  },
  {
   "cell_type": "code",
   "metadata": {
    "ExecuteTime": {
     "end_time": "2025-02-19T03:11:16.231606Z",
     "start_time": "2025-02-19T03:11:16.228530Z"
    }
   },
   "source": [
    "%run tds2Danimation_h25.py\n",
    "# Remplacez \"XX\" par les deux derniers chiffres de l'année de votre session.\n",
    "# N'hésitez pas à exécuter l'animation 2D ou la simulation 3D à l'extérieur du _Notebook_. Cette cellule vise à préciser que les questions qui suivent se basent sur ces scripts et doivent mener aux mêmes réponses autant en 2D qu'en 3D."
   ],
   "outputs": [],
   "execution_count": 22
  },
  {
   "cell_type": "markdown",
   "metadata": {},
   "source": [
    "### Questions statistiques ###"
   ]
  },
  {
   "cell_type": "markdown",
   "metadata": {},
   "source": [
    "**I.** _(3 points)_  &mdash; Utilisez la liste finale des vecteurs de quantité de mouvement $\\vec{p}$ de toutes les sphères pour calculer la moyenne de son carré $\\langle p^2\\rangle=\\langle\\vec{p}\\cdot\\vec{p}\\rangle$ en écrivant le code nécessaire dans la cellule qui suit. "
   ]
  },
  {
   "metadata": {
    "ExecuteTime": {
     "end_time": "2025-02-19T03:10:27.819019Z",
     "start_time": "2025-02-19T03:10:27.814228Z"
    }
   },
   "cell_type": "code",
   "source": [
    "import json\n",
    "import numpy as np\n",
    "\n",
    "# Charger les données du fichier JSON (généralisation pour 2D)\n",
    "def get_quantite_mouvement(filename=\"p_data.json\"):\n",
    "    with open(filename, 'r') as f:\n",
    "        data = json.load(f)\n",
    "    # Retourne toutes les dimensions disponibles (x, y)\n",
    "    return [[item.get('x', 0), item.get('y', 0)] for item in data]\n",
    "\n",
    "p = get_quantite_mouvement()\n",
    "\n",
    "p_x = [item[0] for item in p]  # Liste des composantes x\n",
    "p_y = [item[1] for item in p]  # Liste des composantes y\n",
    "\n",
    "p_carre = [x ** 2 + y ** 2 for x, y in zip(p_x, p_y)]\n",
    "\n",
    "# Calculer la moyenne de p^2\n",
    "p2_moyenne = np.mean(p_carre)\n",
    "\n",
    "# Afficher le résultat\n",
    "print(f\"La moyenne de p^2 est : {p2_moyenne}\")"
   ],
   "outputs": [
    {
     "name": "stdout",
     "output_type": "stream",
     "text": [
      "La moyenne de p^2 est : 5.599999999999997e-47\n"
     ]
    }
   ],
   "execution_count": 19
  },
  {
   "metadata": {},
   "cell_type": "markdown",
   "source": [
    "\n",
    "**II.** _(2 points)_  &mdash; La température $T$ (macroscopique) est proportionnelle à l'énergie cinétique moyenne $E_{cin}$ de l'ensemble des particules lorsque ce système est rendu à l'équilibre. Celle-ci peut se calculer classiquement selon son <a href=\"https://fr.wikipedia.org/wiki/%C3%89quipartition_de_l%27%C3%A9nergie\">principe d'équipartition</a>, _i.e._ en répartissant l'énergie également sur chaque degré de liberté ici en translation seulement d'où, au total pour $\\text{DIM}=1,2\\text{ ou } 3$ dimensions d'espace réel,\n",
    "\\begin{equation}\n",
    "E_{cin}=\\frac{\\langle p^2 \\rangle}{2m}=\\text{DIM}\\times\\frac{1}{2}k_BT\n",
    "\\end{equation}\n",
    "avec $k_B$, la constante de Boltzmann et $m$, la masse de chaque particule. Quelle est la température du gaz de sphères dures à la fin de la simulation? Est-ce qu'elle a changé significativement par rapport à sa valeur initiale?"
   ]
  },
  {
   "metadata": {
    "ExecuteTime": {
     "end_time": "2025-02-19T03:21:33.073908Z",
     "start_time": "2025-02-19T03:20:42.123618Z"
    }
   },
   "cell_type": "code",
   "source": [
    "from tds2Danimation_h25 import mass, k, DIM\n",
    "\n",
    "def Ecin(p2, m):\n",
    "    return p2_moyenne / (2 * m)\n",
    "\n",
    "Ecin_moyenne = Ecin(p2_moyenne, mass)\n",
    "print(Ecin_moyenne)"
   ],
   "outputs": [
    {
     "data": {
      "text/plain": [
       "<IPython.core.display.HTML object>"
      ],
      "text/html": [
       "<div id=\"glowscript\" class=\"glowscript\"></div>"
      ]
     },
     "metadata": {},
     "output_type": "display_data"
    },
    {
     "data": {
      "text/plain": [
       "<IPython.core.display.Javascript object>"
      ],
      "application/javascript": "if (typeof Jupyter !== \"undefined\") { window.__context = { glowscript_container: $(\"#glowscript\").removeAttr(\"id\")};}else{ element.textContent = ' ';}"
     },
     "metadata": {},
     "output_type": "display_data"
    },
    {
     "name": "stderr",
     "output_type": "stream",
     "text": [
      "Exception ignored in: <function standardAttributes.__del__ at 0x1104a8900>\n",
      "Traceback (most recent call last):\n",
      "  File \"/Users/emilepoirier/Documents/PyEnvPhysique/lib/python3.12/site-packages/vpython/vpython.py\", line 1176, in __del__\n",
      "    super(standardAttributes, self).__del__()\n",
      "  File \"/Users/emilepoirier/Documents/PyEnvPhysique/lib/python3.12/site-packages/vpython/vpython.py\", line 348, in __del__\n",
      "    cmd = {\"cmd\": \"delete\", \"idx\": self.idx}\n",
      "                                   ^^^^^^^^\n",
      "AttributeError: 'curve' object has no attribute 'idx'\n"
     ]
    },
    {
     "ename": "KeyboardInterrupt",
     "evalue": "",
     "output_type": "error",
     "traceback": [
      "\u001B[0;31m---------------------------------------------------------------------------\u001B[0m",
      "\u001B[0;31mKeyboardInterrupt\u001B[0m                         Traceback (most recent call last)",
      "Cell \u001B[0;32mIn[24], line 1\u001B[0m\n\u001B[0;32m----> 1\u001B[0m \u001B[38;5;28;01mfrom\u001B[39;00m\u001B[38;5;250m \u001B[39m\u001B[38;5;21;01mtds2Danimation_h25\u001B[39;00m\u001B[38;5;250m \u001B[39m\u001B[38;5;28;01mimport\u001B[39;00m mass, k, DIM\n\u001B[1;32m      3\u001B[0m \u001B[38;5;28;01mdef\u001B[39;00m\u001B[38;5;250m \u001B[39m\u001B[38;5;21mEcin\u001B[39m(p2, m):\n\u001B[1;32m      4\u001B[0m     \u001B[38;5;28;01mreturn\u001B[39;00m p2_moyenne \u001B[38;5;241m/\u001B[39m (\u001B[38;5;241m2\u001B[39m \u001B[38;5;241m*\u001B[39m m)\n",
      "File \u001B[0;32m~/Documents/GitHub/TP_Num_Thermo_Stat/tds2Danimation_h25.py:70\u001B[0m\n\u001B[1;32m     68\u001B[0m d \u001B[38;5;241m=\u001B[39m L\u001B[38;5;241m/\u001B[39m\u001B[38;5;241m2\u001B[39m\u001B[38;5;241m+\u001B[39mRatom\n\u001B[1;32m     69\u001B[0m r \u001B[38;5;241m=\u001B[39m \u001B[38;5;241m0.005\u001B[39m\n\u001B[0;32m---> 70\u001B[0m cadre \u001B[38;5;241m=\u001B[39m \u001B[43mcurve\u001B[49m\u001B[43m(\u001B[49m\u001B[43mcolor\u001B[49m\u001B[38;5;241;43m=\u001B[39;49m\u001B[43mgray\u001B[49m\u001B[43m,\u001B[49m\u001B[43m \u001B[49m\u001B[43mradius\u001B[49m\u001B[38;5;241;43m=\u001B[39;49m\u001B[43mr\u001B[49m\u001B[43m)\u001B[49m\n\u001B[1;32m     71\u001B[0m cadre\u001B[38;5;241m.\u001B[39mappend([vector(\u001B[38;5;241m-\u001B[39md,\u001B[38;5;241m-\u001B[39md,\u001B[38;5;241m0\u001B[39m), vector(d,\u001B[38;5;241m-\u001B[39md,\u001B[38;5;241m0\u001B[39m), vector(d,d,\u001B[38;5;241m0\u001B[39m), vector(\u001B[38;5;241m-\u001B[39md,d,\u001B[38;5;241m0\u001B[39m), vector(\u001B[38;5;241m-\u001B[39md,\u001B[38;5;241m-\u001B[39md,\u001B[38;5;241m0\u001B[39m)])\n\u001B[1;32m     73\u001B[0m \u001B[38;5;66;03m#### POSITION ET QUANTITÉ DE MOUVEMENT INITIALE DES SPHÈRES ####\u001B[39;00m\n",
      "File \u001B[0;32m~/Documents/PyEnvPhysique/lib/python3.12/site-packages/vpython/vpython.py:2069\u001B[0m, in \u001B[0;36mcurve.__init__\u001B[0;34m(self, *args1, **args)\u001B[0m\n\u001B[1;32m   2066\u001B[0m     tpos \u001B[38;5;241m=\u001B[39m args[\u001B[38;5;124m'\u001B[39m\u001B[38;5;124mpos\u001B[39m\u001B[38;5;124m'\u001B[39m]\n\u001B[1;32m   2067\u001B[0m     \u001B[38;5;28;01mdel\u001B[39;00m args[\u001B[38;5;124m'\u001B[39m\u001B[38;5;124mpos\u001B[39m\u001B[38;5;124m'\u001B[39m]\n\u001B[0;32m-> 2069\u001B[0m \u001B[38;5;28;43msuper\u001B[39;49m\u001B[43m(\u001B[49m\u001B[43mcurveMethods\u001B[49m\u001B[43m,\u001B[49m\u001B[43m \u001B[49m\u001B[38;5;28;43mself\u001B[39;49m\u001B[43m)\u001B[49m\u001B[38;5;241;43m.\u001B[39;49m\u001B[43msetup\u001B[49m\u001B[43m(\u001B[49m\u001B[43margs\u001B[49m\u001B[43m)\u001B[49m\n\u001B[1;32m   2071\u001B[0m \u001B[38;5;28;01mif\u001B[39;00m tpos \u001B[38;5;129;01mis\u001B[39;00m \u001B[38;5;129;01mnot\u001B[39;00m \u001B[38;5;28;01mNone\u001B[39;00m:\n\u001B[1;32m   2072\u001B[0m     \u001B[38;5;28;01mif\u001B[39;00m \u001B[38;5;28mlen\u001B[39m(args1) \u001B[38;5;241m>\u001B[39m \u001B[38;5;241m0\u001B[39m: \u001B[38;5;28;01mraise\u001B[39;00m \u001B[38;5;167;01mAttributeError\u001B[39;00m(\u001B[38;5;124m'\u001B[39m\u001B[38;5;124mMalformed constructor\u001B[39m\u001B[38;5;124m'\u001B[39m)\n",
      "File \u001B[0;32m~/Documents/PyEnvPhysique/lib/python3.12/site-packages/vpython/vpython.py:612\u001B[0m, in \u001B[0;36mstandardAttributes.setup\u001B[0;34m(self, args)\u001B[0m\n\u001B[1;32m    611\u001B[0m \u001B[38;5;28;01mdef\u001B[39;00m\u001B[38;5;250m \u001B[39m\u001B[38;5;21msetup\u001B[39m(\u001B[38;5;28mself\u001B[39m, args):\n\u001B[0;32m--> 612\u001B[0m     \u001B[38;5;28;43msuper\u001B[39;49m\u001B[43m(\u001B[49m\u001B[43mstandardAttributes\u001B[49m\u001B[43m,\u001B[49m\u001B[43m \u001B[49m\u001B[38;5;28;43mself\u001B[39;49m\u001B[43m)\u001B[49m\u001B[38;5;241;43m.\u001B[39;49m\u001B[38;5;21;43m__init__\u001B[39;49m\u001B[43m(\u001B[49m\u001B[43m)\u001B[49m\n\u001B[1;32m    613\u001B[0m     \u001B[38;5;28mself\u001B[39m\u001B[38;5;241m.\u001B[39m_constructing \u001B[38;5;241m=\u001B[39m \u001B[38;5;28;01mTrue\u001B[39;00m  \u001B[38;5;66;03m## calls to setters are from constructor\u001B[39;00m\n\u001B[1;32m    615\u001B[0m     objName \u001B[38;5;241m=\u001B[39m \u001B[38;5;28mself\u001B[39m\u001B[38;5;241m.\u001B[39m_objName \u001B[38;5;241m=\u001B[39m args[\u001B[38;5;124m'\u001B[39m\u001B[38;5;124m_objName\u001B[39m\u001B[38;5;124m'\u001B[39m]  \u001B[38;5;66;03m## identifies object type\u001B[39;00m\n",
      "File \u001B[0;32m~/Documents/PyEnvPhysique/lib/python3.12/site-packages/vpython/vpython.py:265\u001B[0m, in \u001B[0;36mbaseObj.__init__\u001B[0;34m(self, **kwargs)\u001B[0m\n\u001B[1;32m    262\u001B[0m \u001B[38;5;28;01mif\u001B[39;00m \u001B[38;5;129;01mnot\u001B[39;00m (baseObj\u001B[38;5;241m.\u001B[39m_view_constructed \u001B[38;5;129;01mor\u001B[39;00m\n\u001B[1;32m    263\u001B[0m         baseObj\u001B[38;5;241m.\u001B[39m_canvas_constructing):\n\u001B[1;32m    264\u001B[0m     \u001B[38;5;28;01mif\u001B[39;00m _isnotebook:\n\u001B[0;32m--> 265\u001B[0m         \u001B[38;5;28;01mfrom\u001B[39;00m\u001B[38;5;250m \u001B[39m\u001B[38;5;21;01m.\u001B[39;00m\u001B[38;5;21;01mwith_notebook\u001B[39;00m\u001B[38;5;250m \u001B[39m\u001B[38;5;28;01mimport\u001B[39;00m _\n\u001B[1;32m    266\u001B[0m     \u001B[38;5;28;01melse\u001B[39;00m:\n\u001B[1;32m    267\u001B[0m         \u001B[38;5;28;01mfrom\u001B[39;00m\u001B[38;5;250m \u001B[39m\u001B[38;5;21;01m.\u001B[39;00m\u001B[38;5;21;01mno_notebook\u001B[39;00m\u001B[38;5;250m \u001B[39m\u001B[38;5;28;01mimport\u001B[39;00m _\n",
      "File \u001B[0;32m~/Documents/PyEnvPhysique/lib/python3.12/site-packages/vpython/with_notebook.py:154\u001B[0m\n\u001B[1;32m    152\u001B[0m baseObj\u001B[38;5;241m.\u001B[39mglow \u001B[38;5;241m=\u001B[39m GlowWidget(wsport\u001B[38;5;241m=\u001B[39m__SOCKET_PORT, wsuri\u001B[38;5;241m=\u001B[39m\u001B[38;5;124m'\u001B[39m\u001B[38;5;124m/ws\u001B[39m\u001B[38;5;124m'\u001B[39m)\n\u001B[1;32m    153\u001B[0m \u001B[38;5;28;01mwhile\u001B[39;00m (\u001B[38;5;129;01mnot\u001B[39;00m wsConnected):\n\u001B[0;32m--> 154\u001B[0m     \u001B[43mtime\u001B[49m\u001B[38;5;241;43m.\u001B[39;49m\u001B[43msleep\u001B[49m\u001B[43m(\u001B[49m\u001B[38;5;241;43m0.1\u001B[39;49m\u001B[43m)\u001B[49m          \u001B[38;5;66;03m# wait for websocket to connect\u001B[39;00m\n\u001B[1;32m    156\u001B[0m baseObj\u001B[38;5;241m.\u001B[39mtrigger()  \u001B[38;5;66;03m# start the trigger ping-pong process\u001B[39;00m\n\u001B[1;32m    159\u001B[0m \u001B[38;5;66;03m# Same justification as above for removing the ipykernel check.\u001B[39;00m\n\u001B[1;32m    160\u001B[0m \u001B[38;5;66;03m# There was also an IPython version check for >=4, which was\u001B[39;00m\n\u001B[1;32m    161\u001B[0m \u001B[38;5;66;03m# released in Nov 2015. Ok to stop supporting in 2.019 I think.\u001B[39;00m\n",
      "\u001B[0;31mKeyboardInterrupt\u001B[0m: "
     ]
    }
   ],
   "execution_count": 24
  },
  {
   "cell_type": "markdown",
   "metadata": {
    "nteract": {
     "transient": {
      "deleting": false
     }
    }
   },
   "source": [
    "**III.** _(10 points)_ &mdash; Modifiez le code de la simulation pour ajouter une fonction qui suit la trajectoire d'UNE SEULE particule, c'est-à-dire qu'elle doit enregistrer, dans une liste, des valeurs de variables pour cette particule et ce, à chacune de ses collisions avec une autre particule (_i.e._ excluez les collisions avec les parois de la boîte). Les deux variables scalaires à lister sont:\n",
    "- la distance que la particule a parcouru entre chaque collision,\n",
    "- le temps écoulé entre ces collisions.\n",
    "\n",
    "Copiez le code de votre fonction dans la cellule qui suit en y commentant clairement les variables pour ces listes qui devront persister après avoir interrompu l'exécution de la simulation. N'oubliez pas d'inclure votre fichier Python (`.py`) modifié avec la simulation complète lors de la remise."
   ]
  },
  {
   "cell_type": "code",
   "execution_count": null,
   "metadata": {
    "nteract": {
     "transient": {
      "deleting": false
     }
    }
   },
   "outputs": [],
   "source": [
    "\n",
    "#"
   ]
  },
  {
   "cell_type": "markdown",
   "metadata": {
    "nteract": {
     "transient": {
      "deleting": false
     }
    }
   },
   "source": [
    "**IV.** _(2 points)_ &mdash; Calculez le **libre parcours moyen** $l_{moy}$ et le **temps de collision** $\\tau$ qui sont les valeurs moyennes des deux listes compilées au numéro précédent.\n",
    "\n",
    "_(Pour votre information, le libre parcours moyen est de l’ordre de 100 nm dans l'air à température et pression ambiantes, mais_ $l_{moy}$ _peut dépasser 100 000 km dans une enceinte sous vide avec les technologies de pompes modernes!)_\n",
    "\n"
   ]
  },
  {
   "cell_type": "code",
   "execution_count": null,
   "metadata": {
    "nteract": {
     "transient": {
      "deleting": false
     }
    }
   },
   "outputs": [],
   "source": [
    "\n",
    "#"
   ]
  },
  {
   "cell_type": "markdown",
   "metadata": {
    "nteract": {
     "transient": {
      "deleting": false
     }
    }
   },
   "source": [
    "**V.** _(2 points)_ Calculez la vitesse $\\vec{v}$ de la particule entre chaque paire de collisions. Quelle est la vitesse moyenne $\\langle\\vec{v}\\rangle$ de la particule?"
   ]
  },
  {
   "cell_type": "code",
   "execution_count": null,
   "metadata": {
    "nteract": {
     "transient": {
      "deleting": false
     }
    }
   },
   "outputs": [],
   "source": [
    "\n",
    "#"
   ]
  },
  {
   "cell_type": "markdown",
   "metadata": {
    "nteract": {
     "transient": {
      "deleting": false
     }
    }
   },
   "source": [
    "**VI.** _(5 points)_ &mdash; Pour cette même liste de vitesses, comparez les distributions de la norme $||\\vec{v}||$, du carré $v^2$ et d’une de ses composantes $v_x^2$ en étalonnant l’abscisse pour contraster les histogrammes avec une échelle appropriée. Indiquez sur ce graphique la moyenne, le mode, la médiane et la moyenne quadratique des distributions."
   ]
  },
  {
   "cell_type": "code",
   "execution_count": null,
   "metadata": {
    "nteract": {
     "transient": {
      "deleting": false
     }
    }
   },
   "outputs": [],
   "source": [
    "\n",
    "#"
   ]
  },
  {
   "cell_type": "markdown",
   "metadata": {},
   "source": [
    "**Bonus.** _(4 points)_ &mdash; Montrez que \n",
    "- (a) le théorème central limite est satisfait par une des distributions de vitesse du numéro précédent,\n",
    "- (b) le système simulé est ergodique."
   ]
  },
  {
   "cell_type": "code",
   "execution_count": null,
   "metadata": {
    "nteract": {
     "transient": {
      "deleting": false
     }
    }
   },
   "outputs": [],
   "source": [
    "\n",
    "#"
   ]
  },
  {
   "cell_type": "markdown",
   "metadata": {
    "nteract": {
     "transient": {
      "deleting": false
     }
    }
   },
   "source": [
    "# Médiagraphie #\n",
    " - La simulation utilise la librairie <a href=\"https://vpython.org\">VPython</a> conçue pour la visualisation de physique en 3D, avec les instructions d’installation <a href=\"https://vpython.org/presentation2018/install.html\">ici</a> et la documentation <a href=\"https://www.glowscript.org/docs/VPythonDocs/index.html\">ici</a>. Le script fourni qui est exécuté dans ce _Notebook_ adapte en 2D et commente en détail l’exemple <a href=\"https://www.glowscript.org/#/user/GlowScriptDemos/folder/Examples/program/HardSphereGas-VPython\">HardSphereGas-VPython</a> du site interactif <a href=\"https://www.glowscript.org\">GlowScript</a> pour programmer des animations avec VPython directement en ligne.\n",
    " \n",
    "_**N.B. de débogage VPython:** Ayant plus codé en MATLAB qu'en Python jusqu'à maintenant, j'utilise Spyder qui offre une interface similaire, mais j'ai trouvé ce vidéo qui parle d'une <a href=\"https://www.youtube.com/watch?v=MJiVtz4Uj7M\">installation VS code</a> qui peut-être aider? N'hésitez pas à partager de meilleures alternatives que j'ajouterai ici. Vous pouvez aussi tenter l'installation <a href=\"https://jakevdp.github.io/blog/2017/12/05/installing-python-packages-from-jupyter/\">directement dans le Notebook</a>, mais au final chaque installation de distribution Python a son lot de <a href=\"https://xkcd.com/2347/\">défis avec les dépendances</a>. Si rien ne fonctionne, n'hésitez pas à contacter la sympathique communauté qui développe et utilise cette librairie VPython d'abord via leur <a href=\"https://groups.google.com/g/vpython-users\">groupe-forum</a>, puis leur <a href=\"https://github.com/vpython/vpython-jupyter\">site GitHub</a> de dépôt de développement. J'ai toujours eu de bonnes expériences d'interaction avec eux!_ \n",
    " "
   ]
  }
 ],
 "metadata": {
  "kernelspec": {
   "display_name": "Python 3",
   "language": "python",
   "name": "python3"
  },
  "language_info": {
   "codemirror_mode": {
    "name": "ipython",
    "version": 3
   },
   "file_extension": ".py",
   "mimetype": "text/x-python",
   "name": "python",
   "nbconvert_exporter": "python",
   "pygments_lexer": "ipython3",
   "version": "3.8.20"
  }
 },
 "nbformat": 4,
 "nbformat_minor": 4
}
