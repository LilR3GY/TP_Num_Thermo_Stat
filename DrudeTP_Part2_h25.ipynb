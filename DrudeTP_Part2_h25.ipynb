{
 "cells": [
  {
   "cell_type": "markdown",
   "metadata": {},
   "source": [
    "<h1 style=\"text-align:center\">Travail pratique numérique en thermodynamique statistique</h1>\n",
    "<h2 style=\"text-align:center\">PARTIE 2 : Modèle de Drude</h2>\n",
    "\n",
    "Veuillez indiquer le nom des membres de votre équipe dans la cellule suivante."
   ]
  },
  {
   "cell_type": "markdown",
   "metadata": {},
   "source": [
    "- Michael Hudon\n",
    "- Émile Poirier\n",
    "- Justin Binette\n",
    "- Sébastien Rouleau"
   ]
  },
  {
   "cell_type": "markdown",
   "metadata": {
    "nteract": {
     "transient": {
      "deleting": false
     }
    }
   },
   "source": [
    "# Introduction # \n",
    "Cette deuxième partie du travail implémente une simulation 2D du modèle de Drude pour décrire le mouvement des électrons libres et indépendants dans les métaux. Des sphères dures sont encore utilisées pour représenter les particules, mais maintenant de deux types différents afin de différencier les coeurs ioniques immobiles des électrons sur leurs trajectoires balistiques. Les collisions entre les deux doivent donc être inélastiques. Les questions sur cette simulation, d'abord de cinétique puis de dynamique des électrons en présence d'une force externe appliquée au cristal, vérifieront quelques résultats analytiques du modèle de Drude obtenus en classe et/ou dans le manuel de cours Ashcroft/Mermin.\n",
    "\n",
    "- **La remise du présent _Jupyter Notebook_ ET celui de la 1<sup>re</sup> partie, ainsi que tout autre fichier de code produit, se fait sur Gradescope en n'oubliant pas d'y indiquer tous les membres de votre équipe.**"
   ]
  },
  {
   "cell_type": "markdown",
   "metadata": {},
   "source": [
    "# 2<sup>e</sup> partie - Modèle de Drude #"
   ]
  },
  {
   "cell_type": "markdown",
   "metadata": {},
   "source": [
    "Faites une copie du script `tds2Danimation_hXX.py` et modifiez-le pour obtenir une simulation cinétique d'un gaz d'électrons libres dans la matière cristalline selon le modèle de Drude. Spécifiquement selon les pp.4-6 du manuel Ashcroft/Mermin,\n",
    "1. ajoutez un deuxième type de sphères fixes réparties périodiquement dans la boîte d'animation: celles-ci représenteront les coeurs ioniques,\n",
    "2. éliminez les collisions entre les sphères mobiles qui représentent maintenant les électrons de conduction indépendants et libres,\n",
    "3. en faisant appel à la température du gaz, ajoutez des collisions inélastiques entre les électrons libres et les coeurs ioniques fixes. La quantité de mouvement $\\vec{p}$ n'est alors PAS conservée et il faut appliquer les hypothèses spécifiques du modèle de Drude à la sortie de chaque collision, notamment: \n",
    "- la direction de $\\vec{p}$ doit être aléatoire,\n",
    "- la norme $||\\vec{p}||$ est déterminée par la distribution de Maxwell-Boltzmann."
   ]
  },
  {
   "cell_type": "markdown",
   "metadata": {},
   "source": [
    "### Votre simulation ###"
   ]
  },
  {
   "cell_type": "markdown",
   "metadata": {},
   "source": [
    "VII. _(25 points)_ &mdash; Écrivez un appel de votre nouveau script pour l'exécuter avec la cellule suivante:"
   ]
  },
  {
   "cell_type": "code",
   "execution_count": 3,
   "metadata": {},
   "outputs": [
    {
     "name": "stdout",
     "output_type": "stream",
     "text": [
      "Figure(1000x500)\n"
     ]
    }
   ],
   "source": [
    "!python Druide_(Question7-8).py"
   ]
  },
  {
   "cell_type": "markdown",
   "metadata": {},
   "source": [
    "### Question statistique ###"
   ]
  },
  {
   "cell_type": "markdown",
   "metadata": {},
   "source": [
    "VIII. _(5 points)_ &mdash; Vérifiez numériquement et graphiquement que l'amortissement de la quantité de mouvement moyenne des électrons suit l'équation exponentielle dérivée analytiquement en classe, soit $\\langle p(t)\\rangle =\\langle p(t_0)\\rangle \\,e^{-t/\\tau}$, et comparez-y le comportement d'un seul électron."
   ]
  },
  {
   "cell_type": "code",
   "execution_count": null,
   "metadata": {},
   "outputs": [],
   "source": [
    "from vpython import *\n",
    "import numpy as np\n",
    "from scipy.stats import maxwell\n",
    "import matplotlib.pyplot as plt  # Pour le tracé du graphique\n",
    "\n",
    "# Déclaration de variables influençant le temps d'exécution de la simulation\n",
    "Nions = 25  # Nombre de cœurs ioniques\n",
    "Rion = 0.02  # Taille fictive des ions\n",
    "Natoms = 200  # Nombre d'atomes\n",
    "dt = 1E-8  # Pas d'incrémentation temporelle\n",
    "\n",
    "# Déclaration de variables physiques\n",
    "DIM = 2  # Nombre de degrés de liberté de la simulation\n",
    "mass = 9.109e-31  # Masse d'un atome\n",
    "Ratom = 0.01  # Taille des atomes\n",
    "k = 1.4E-23  # Constante de Boltzmann\n",
    "T = 1000  # Température ambiante augmentée à 1000K\n",
    "\n",
    "#### CANEVAS DE FOND ####\n",
    "L = 1  # Conteneur en forme de cube\n",
    "gray = color.gray(0.7)  # Couleur des bords du conteneur\n",
    "animation = canvas(width=750, height=500)\n",
    "animation.range = L\n",
    "\n",
    "#### ARÊTES DE BOÎTE 2D ####\n",
    "d = L / 2 + Ratom\n",
    "r = 0.005\n",
    "cadre = curve(color=gray, radius=r)\n",
    "cadre.append([vector(-d, -d, 0), vector(d, -d, 0), vector(d, d, 0), vector(-d, d, 0), vector(-d, -d, 0)])\n",
    "\n",
    "#### POSITION ET QUANTITÉ DE MOUVEMENT INITIALE DES SPHÈRES ####\n",
    "Atoms = []\n",
    "p = []\n",
    "apos = []\n",
    "pavg = sqrt(2 * mass * (DIM / 2) * k * T)\n",
    "\n",
    "for i in range(Natoms):\n",
    "    x = L * random() - L / 2\n",
    "    y = L * random() - L / 2\n",
    "    z = 0\n",
    "    Atoms.append(simple_sphere(pos=vector(x, y, z), radius=Ratom, color=gray))\n",
    "    apos.append(vec(x, y, z))\n",
    "    phi = 2 * pi * random()\n",
    "    px = pavg * cos(phi)\n",
    "    py = pavg * sin(phi)\n",
    "    p.append(vector(px, py, 0))\n",
    "\n",
    "# Initialisation des cœurs ioniques\n",
    "Ions = []\n",
    "ion_pos = []\n",
    "\n",
    "grid_size = int(sqrt(Nions))\n",
    "dist = L / grid_size\n",
    "\n",
    "for i in range(grid_size):\n",
    "    for j in range(grid_size):\n",
    "        if len(Ions) >= Nions:\n",
    "            break\n",
    "        x = -L / 2 + i * dist + dist / 2\n",
    "        y = -L / 2 + j * dist + dist / 2\n",
    "        ion = simple_sphere(pos=vector(x, y, 0), radius=Rion, color=color.red)\n",
    "        Ions.append(ion)\n",
    "        ion_pos.append(vector(x, y, 0))\n",
    "\n",
    "# Fonction pour identifier les collisions entre électrons et ions\n",
    "def checkIonCollisions():\n",
    "    hitlist = []\n",
    "    r2 = (Ratom + Rion) ** 2\n",
    "    for i in range(Natoms):\n",
    "        ai = apos[i]\n",
    "        for j in range(len(Ions)):\n",
    "            aj = ion_pos[j]\n",
    "            dr = ai - aj\n",
    "            if mag2(dr) < r2:\n",
    "                hitlist.append([i, j])\n",
    "    return hitlist\n",
    "\n",
    "# Fonction pour générer une quantité de mouvement aléatoire\n",
    "def generateRandomMomentum():\n",
    "    speed = maxwell.rvs(scale=np.sqrt(k * T / mass))\n",
    "    theta = 2 * np.pi * random()\n",
    "    px = mass * speed * np.cos(theta)\n",
    "    py = mass * speed * np.sin(theta)\n",
    "    return vector(px, py, 0)\n",
    "\n",
    "# Listes pour stocker les données\n",
    "avg_momentum_list = []\n",
    "single_electron_momentum = []\n",
    "avg_direction_list = []  # Stocke la direction moyenne des électrons\n",
    "single_electron_direction = []  # Stocke la direction d'un seul électron\n",
    "\n",
    "# Boucle principale\n",
    "Valeurs = 500\n",
    "\n",
    "for iteration in range(Valeurs):\n",
    "    rate(1000)\n",
    "\n",
    "    # Déplace les sphères\n",
    "    vitesse = []\n",
    "    deltax = []\n",
    "    for i in range(Natoms):\n",
    "        vitesse.append(p[i] / mass)\n",
    "        deltax.append(vitesse[i] * dt)\n",
    "        Atoms[i].pos = apos[i] = apos[i] + deltax[i]\n",
    "\n",
    "    for i in range(Natoms):\n",
    "        loc = apos[i]\n",
    "        if abs(loc.x) > L / 2:\n",
    "            p[i].x *= -1\n",
    "            apos[i].x = L / 2 * (1 if loc.x > 0 else -1)\n",
    "        if abs(loc.y) > L / 2:\n",
    "            p[i].y *= -1\n",
    "            apos[i].y = L / 2 * (1 if loc.y > 0 else -1)\n",
    "\n",
    "    # Identification des collisions avec les ions\n",
    "    hitlist = checkIonCollisions()\n",
    "\n",
    "    # Gestion des collisions\n",
    "    for ij in hitlist:\n",
    "        i = ij[0]\n",
    "        j = ij[1]\n",
    "        p[i] = generateRandomMomentum()\n",
    "        apos[i] += (p[i] / mass) * dt\n",
    "\n",
    "    # Calcul de la quantité de mouvement moyenne\n",
    "    avg_momentum = np.mean([mag(p_i) for p_i in p])\n",
    "    avg_momentum_list.append(avg_momentum)\n",
    "\n",
    "    # Stocke la quantité de mouvement du premier électron\n",
    "    single_electron_momentum.append(mag(p[0]))\n",
    "\n",
    "    # Calcul de la direction moyenne des électrons\n",
    "    avg_direction = np.mean([np.arctan2(p_i.y, p_i.x) for p_i in p])\n",
    "    avg_direction_list.append(avg_direction)\n",
    "\n",
    "    # Stocke la direction de l'électron choisi\n",
    "    single_electron_direction.append(np.arctan2(p[0].y, p[0].x))\n",
    "\n",
    "    # Recalcul de la température toutes les 10 itérations\n",
    "    if iteration % 10 == 0:\n",
    "        if avg_momentum > 1E-32:  # Si la quantité de mouvement moyenne est significativement non nulle\n",
    "            # Calcul de la nouvelle température basée sur la quantité de mouvement\n",
    "            T = (avg_momentum ** 2) * mass / (k * (DIM / 2))\n",
    "        else:\n",
    "            print(\"La quantité de mouvement est presque nulle, arrêt de la simulation.\")\n",
    "            break\n",
    "\n",
    "\n",
    "def plot_momentum_decay(p0, tau, t_max, num_points=1000):\n",
    "    t = np.linspace(0, t_max, num_points)  # Génère des points de temps\n",
    "    p_t = p0 * np.exp(-t / tau)  # Calcule <p(t)>\n",
    "\n",
    "    # Tracer la fonction de décroissance\n",
    "    plt.plot(t, p_t, label='Décroissance Exponentielle', color='blue')\n",
    "\n",
    "# Paramètres pour le tracé\n",
    "p0 = avg_momentum_list[0] if avg_momentum_list else 1.0  # Valeur initiale de <p(t0)>\n",
    "tau = 0.00000000001\n",
    "t_max = Valeurs / 5000000\n",
    "num_points = 100  # Nombre de points pour le tracé\n",
    "\n",
    "start = 0  # Début\n",
    "stop = Valeurs / 10  # Fin\n",
    "step = 0.1  # Pas\n",
    "\n",
    "# Calculer le nombre de points nécessaires\n",
    "num_points = int((stop - start) / step)\n",
    "\n",
    "# Utiliser linspace pour générer la liste\n",
    "values = np.linspace(start, stop, num_points)\n",
    "\n",
    "plt.figure() \n",
    "#sAppel de la fonction pour tracer la décroissance\n",
    "#plot_momentum_decay(p0, tau, t_max, num_points)\n",
    "\n",
    "# Tracé du graphique de la quantité de mouvement moyenne en fonction du temps\n",
    "time_values = [dt * i for i in range(len(avg_momentum_list))]\n",
    "plt.plot(time_values, avg_momentum_list)\n",
    "plt.xlabel('Temps (s)')\n",
    "plt.ylabel('Quantité de mouvement moyenne (kg.m/s)')\n",
    "plt.title('Quantité de mouvement moyenne des électrons en fonction du temps')\n",
    "\n",
    "plt.grid()\n",
    "plt.show()"
   ]
  },
  {
   "cell_type": "markdown",
   "metadata": {},
   "source": [
    "Voici on remarque que la quantité de mouvement moyenne descend exponentilement en fonction du temps et rhyme avec une baisse de température"
   ]
  },
  {
   "cell_type": "markdown",
   "metadata": {},
   "source": [
    "### Dynamique sous l'effet d'une force externe ###"
   ]
  },
  {
   "cell_type": "markdown",
   "metadata": {},
   "source": [
    "IX. _(10 points)_ &mdash; Pour passer de la cinétique à la dynamique des électrons libres, modifiez votre code de simulation en ajoutant une fonction qui applique un champ électrique uniforme. Celui-ci devra être de module ajustable et perpendiculaire à deux des côtés de la boîte. À chaque pas de temps $\\mathrm{d}t$ sans collision, les électrons devront donc accélérer d'un incrément $\\mathrm{d}p_x$ dicté par la force de Coulomb à leur position.\n",
    "\n",
    "Copiez le code de votre fonction dans la cellule qui suit en n'oubliant pas d'inclure votre fichier Python (`.py`) modifié avec la simulation complète lors de la remise."
   ]
  },
  {
   "cell_type": "code",
   "execution_count": null,
   "metadata": {},
   "outputs": [],
   "source": []
  },
  {
   "cell_type": "markdown",
   "metadata": {},
   "source": [
    "### Question statistique ###"
   ]
  },
  {
   "cell_type": "markdown",
   "metadata": {},
   "source": [
    "X. _(5 points)_ &mdash; Pour quelques différents modules de champ électrique, présentez graphiquement l'évolution de la position moyenne des électrons en fonction du temps pour ses deux composantes parallèle et perpendiculaire au champ."
   ]
  },
  {
   "cell_type": "code",
   "execution_count": null,
   "metadata": {},
   "outputs": [],
   "source": [
    "import matplotlib.pyplot as plt\n",
    "\n",
    "# Générer l'axe du temps\n",
    "time = np.arange(max_iterations) * dt\n",
    "\n",
    "# Tracer les positions moyennes parallèle et perpendiculaire au champ\n",
    "plt.figure(figsize=(10, 5))\n",
    "\n",
    "# Composante parallèle\n",
    "plt.subplot(1, 2, 1)\n",
    "plt.plot(time, positions_paralleles, label='Composante parallèle')\n",
    "plt.xlabel('Temps (s)')\n",
    "plt.ylabel('Position moyenne')\n",
    "plt.title('Composante parallèle au champ électrique')\n",
    "plt.legend()\n",
    "\n",
    "# Ajouter une flèche pour le sens du champ\n",
    "if E_direction == 'horizontal':\n",
    "    if E_intensity > 0:\n",
    "        arrow(pos=vector(0, 0.6, 0), axis=vector(0.5 * L, 0, 0), shaftwidth=0.05 * L, color=color.red)\n",
    "    else:\n",
    "        arrow(pos=vector(0, 0.6, 0), axis=vector(-0.5 * L, 0, 0), shaftwidth=0.05 * L, color=color.red)\n",
    "    label = text(text='Champ horizontal', pos=vector(-0.25 * L, 0.68 * L, 0), height=0.05, color=color.red)\n",
    "else:  # Cas pour un champ vertical\n",
    "    if E_intensity > 0:\n",
    "        arrow(pos=vector(-0.6, 0, 0), axis=vector(0, 0.5 * L, 0), shaftwidth=0.05 * L, color=color.red)\n",
    "    else:\n",
    "        arrow(pos=vector(-0.6, 0, 0), axis=vector(0, -0.5 * L, 0), shaftwidth=0.05 * L, color=color.red)\n",
    "    label = text(text='Champ vertical', pos=vector(-0.68 * L, -0.20 * L, 0), height=0.05, color=color.red, axis=vector(0, 1, 0))\n",
    "\n",
    "# Composante perpendiculaire\n",
    "plt.subplot(1, 2, 2)\n",
    "plt.plot(time, positions_perpendiculaires, label='Composante perpendiculaire')\n",
    "plt.xlabel('Temps (s)')\n",
    "plt.ylabel('Position moyenne')\n",
    "plt.title('Composante perpendiculaire au champ électrique')\n",
    "plt.legend()\n",
    "\n",
    "# Affichage du graphique\n",
    "plt.tight_layout()\n",
    "plt.show()"
   ]
  },
  {
   "cell_type": "markdown",
   "metadata": {
    "nteract": {
     "transient": {
      "deleting": false
     }
    }
   },
   "source": [
    "# Médiagraphie #\n",
    "- P. Drude, _Zur Elektronentheorie der Metalle; I Teil_, Annalen der Physik **306**(3), pp.566–613 (1900) https://doi.org/10.1002/andp.19003060312\n",
    "- P. Drude, _Zur Elektronentheorie der Metalle; II Teil. Galvanomagnetische und Thermomagnetische Effecte_, Annalen der Physik **308**(11), pp.369–402 (1900) https://doi.org/10.1002/andp.19003081102\n",
    "- P. Drude, _Zur Elektronentheorie der Metalle; Berichtigung_, Annalen der Physik **312**(3), pp.687–692 (1902) https://doi.org/10.1002/andp.19023120312\n",
    "- H. A. Lorentz, _The Motion of Electrons in Metallic Bodies I_, Proc. of Koninklijke Akademie van Wetenschappen **7**, pp.438-453 (1905) https://dwc.knaw.nl/DL/publications/PU00013989.pdf\n",
    "- H. A. Lorentz, _The Motion of Electrons in Metallic Bodies II_, Proc. of Koninklijke Akademie van Wetenschappen **7**, pp.585-593 (1905) https://dwc.knaw.nl/DL/publications/PU00014010.pdf\n",
    "- H. A. Lorentz, _The Motion of Electrons in Metallic Bodies III_, Proc. of Koninklijke Akademie van Wetenschappen **7**, pp.684-691 (1905) https://dwc.knaw.nl/DL/publications/PU00014024.pdf\n",
    " - La simulation utilise la librairie <a href=\"https://vpython.org\">VPython</a> conçue pour la visualisation de physique en 3D, avec les instructions d’installation <a href=\"https://vpython.org/presentation2018/install.html\">ici</a> et la documentation <a href=\"https://www.glowscript.org/docs/VPythonDocs/index.html\">ici</a>. Le script fourni qui est exécuté dans ce _Notebook_ adapte en 2D et commente en détail l’exemple <a href=\"https://www.glowscript.org/#/user/GlowScriptDemos/folder/Examples/program/HardSphereGas-VPython\">HardSphereGas-VPython</a> du site interactif <a href=\"https://www.glowscript.org\">GlowScript</a> pour programmer des animations avec VPython directement en ligne.\n",
    " \n",
    "_**N.B. de débogage VPython:** Ayant plus codé en MATLAB qu'en Python jusqu'à maintenant, j'utilise Spyder qui offre une interface similaire, mais j'ai trouvé ce vidéo qui parle d'une <a href=\"https://www.youtube.com/watch?v=MJiVtz4Uj7M\">installation VS code</a> qui peut-être aider? N'hésitez pas à partager de meilleures alternatives que j'ajouterai ici. Vous pouvez aussi tenter l'installation <a href=\"https://jakevdp.github.io/blog/2017/12/05/installing-python-packages-from-jupyter/\">directement dans le Notebook</a>, mais au final chaque installation de distribution Python a son lot de <a href=\"https://xkcd.com/2347/\">défis avec les dépendances</a>. Si rien ne fonctionne, n'hésitez pas à contacter la sympathique communauté qui développe et utilise cette librairie VPython d'abord via leur <a href=\"https://groups.google.com/g/vpython-users\">groupe-forum</a>, puis leur <a href=\"https://github.com/vpython/vpython-jupyter\">site GitHub</a> de dépôt de développement. J'ai toujours eu de bonnes expériences d'interaction avec eux!_ \n",
    " "
   ]
  }
 ],
 "metadata": {
  "kernelspec": {
   "display_name": ".venv",
   "language": "python",
   "name": "python3"
  },
  "language_info": {
   "codemirror_mode": {
    "name": "ipython",
    "version": 3
   },
   "file_extension": ".py",
   "mimetype": "text/x-python",
   "name": "python",
   "nbconvert_exporter": "python",
   "pygments_lexer": "ipython3",
   "version": "3.13.1"
  }
 },
 "nbformat": 4,
 "nbformat_minor": 4
}
